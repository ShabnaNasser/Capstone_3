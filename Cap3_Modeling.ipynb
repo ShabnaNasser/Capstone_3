{
 "cells": [
  {
   "cell_type": "markdown",
   "id": "f123591d-666f-4e7e-9f7a-9963fc96b137",
   "metadata": {},
   "source": [
    "# <center>**GOOGLE PLAY STORE APPS: ANALYSIS & RATING PREDICTION**</center>\n"
   ]
  },
  {
   "cell_type": "code",
   "execution_count": 1,
   "id": "9cbdee52-e559-4a56-a716-27d4a655c361",
   "metadata": {},
   "outputs": [],
   "source": [
    "#%run /Users/shabnanasser/workplace/git/Capstone_3/Cap3_Preprocessing.ipynb"
   ]
  },
  {
   "cell_type": "markdown",
   "id": "eba75a86-8d17-4801-96fc-de6d2425ff5f",
   "metadata": {},
   "source": [
    "# Modeling"
   ]
  },
  {
   "cell_type": "markdown",
   "id": "c68f7b19-afe6-476a-aca4-e7256c1daaf0",
   "metadata": {},
   "source": [
    "In the Data Modeling section, we are going to train our standardised data with three different ML models: Linear Regression, Random Forest Regressor, Gradient Boosting Regressor, XGB Regressor, SVR, MLP Regressor. Also, we will check the Mean Squared Error (MSE), Mean Absolute Error (MAE), Median Absolute Error (MedAE), R-squared (R2) of each model and find the best performing model among them."
   ]
  },
  {
   "cell_type": "markdown",
   "id": "2081c2b3-553b-4bba-831a-022b8246391b",
   "metadata": {},
   "source": [
    "# 1) Linear Regression"
   ]
  },
  {
   "cell_type": "code",
   "execution_count": 2,
   "id": "b8557b0f-aba8-4dd1-a767-92cbf7826cbb",
   "metadata": {},
   "outputs": [
    {
     "name": "stdout",
     "output_type": "stream",
     "text": [
      "Linear Regression:\n",
      "  Cross-Validation Mean Squared Error (MSE): 0.05537877199326555\n",
      "  Mean Squared Error (MSE): 0.04266302690066463\n",
      "  Mean Absolute Error (MAE): 0.16491611600022119\n",
      "  Median Absolute Error (MedAE): 0.12249562575942749\n",
      "  R-squared (R2): 0.8958245693957043\n"
     ]
    }
   ],
   "source": [
    "from sklearn.model_selection import GridSearchCV\n",
    "from sklearn.model_selection import cross_val_score\n",
    "from sklearn.metrics import mean_squared_error, mean_absolute_error, median_absolute_error, r2_score\n",
    "from sklearn.linear_model import LinearRegression\n",
    "\n",
    "# Define the model\n",
    "linear_model = LinearRegression()\n",
    "\n",
    "# Perform cross-validation\n",
    "linear_cv_scores = cross_val_score(linear_model, X_train, y_train, cv=5, scoring='neg_mean_squared_error')\n",
    "\n",
    "# Fit the model\n",
    "linear_model.fit(X_train, y_train)\n",
    "\n",
    "# Make predictions\n",
    "y_pred = linear_model.predict(X_test)\n",
    "\n",
    "# Evaluate the model\n",
    "mse = mean_squared_error(y_test, y_pred)\n",
    "mae = mean_absolute_error(y_test, y_pred)\n",
    "medae = median_absolute_error(y_test, y_pred)\n",
    "r2 = r2_score(y_test, y_pred)\n",
    "\n",
    "# Print evaluation metrics\n",
    "print(\"Linear Regression:\")\n",
    "print(f\"  Cross-Validation Mean Squared Error (MSE): {-linear_cv_scores.mean()}\")\n",
    "print(f\"  Mean Squared Error (MSE): {mse}\")\n",
    "print(f\"  Mean Absolute Error (MAE): {mae}\")\n",
    "print(f\"  Median Absolute Error (MedAE): {medae}\")\n",
    "print(f\"  R-squared (R2): {r2}\")\n",
    "\n"
   ]
  },
  {
   "cell_type": "markdown",
   "id": "2ae5f1ca-d3fd-406a-b902-3d33655c3504",
   "metadata": {},
   "source": [
    "# 2) Random Forest Regressor"
   ]
  },
  {
   "cell_type": "code",
   "execution_count": 3,
   "id": "6bddd54f-7c24-4611-bf69-371841daf9f4",
   "metadata": {},
   "outputs": [
    {
     "name": "stdout",
     "output_type": "stream",
     "text": [
      "Random Forest Regressor Best parameters: {'max_depth': 20, 'min_samples_leaf': 1, 'min_samples_split': 2, 'n_estimators': 100}\n",
      "Random Forest Regressor MSE: 0.20084729003870253\n",
      "  Mean Absolute Error (MAE): 0.41016648041479853\n",
      "  Median Absolute Error (MedAE): 0.48287480517061543\n",
      "  R-squared (R2): 0.5095670784399559\n"
     ]
    }
   ],
   "source": [
    "from sklearn.ensemble import RandomForestRegressor\n",
    "from sklearn.model_selection import TimeSeriesSplit\n",
    "\n",
    "# Define parameter grids for Random Forest Regressor \n",
    "rf_param_grid = {\n",
    "    'n_estimators': [100, 200, 300],\n",
    "    'max_depth': [None, 10, 20],\n",
    "    'min_samples_split': [2, 5, 10],\n",
    "    'min_samples_leaf': [1, 2, 4]\n",
    "}\n",
    "\n",
    "\n",
    "# Perform time series split for cross-validation\n",
    "tscv = TimeSeriesSplit(n_splits=5)\n",
    "\n",
    "# Perform GridSearchCV for Random Forest Regressor\n",
    "rf_grid_search = GridSearchCV(RandomForestRegressor(), rf_param_grid, cv=tscv, scoring='neg_mean_squared_error')\n",
    "rf_grid_search.fit(X_train, y_train)\n",
    "\n",
    "# Print best parameters found for Random Forest Regressor\n",
    "print(\"Random Forest Regressor Best parameters:\", rf_grid_search.best_params_)\n",
    "\n",
    "# Train Random Forest Regressor with best parameters\n",
    "best_rf_model = rf_grid_search.best_estimator_\n",
    "\n",
    "# Make predictions with Random Forest Regressor\n",
    "rf_predictions = best_rf_model.predict(X_test)\n",
    "\n",
    "# Evaluate Random Forest Regressor\n",
    "rf_mse = mean_squared_error(y_test, rf_predictions)\n",
    "print(\"Random Forest Regressor MSE:\", rf_mse)\n",
    "mae = mean_absolute_error(y_test, rf_predictions)\n",
    "medae = median_absolute_error(y_test, rf_predictions)\n",
    "r2 = r2_score(y_test, rf_predictions)\n",
    "print(f\"  Mean Absolute Error (MAE): {mae}\")\n",
    "print(f\"  Median Absolute Error (MedAE): {medae}\")\n",
    "print(f\"  R-squared (R2): {r2}\")\n",
    "\n"
   ]
  },
  {
   "cell_type": "markdown",
   "id": "0fdbc8ea-9c37-488a-874d-e0f9d2209019",
   "metadata": {},
   "source": [
    "# 3) Gradient Boosting Regressor"
   ]
  },
  {
   "cell_type": "code",
   "execution_count": 4,
   "id": "f42e7cd9-472e-405f-8a5e-d19daa56e184",
   "metadata": {},
   "outputs": [
    {
     "name": "stdout",
     "output_type": "stream",
     "text": [
      "Gradient Boosting Regressor Best parameters: {'learning_rate': 0.1, 'max_depth': 3, 'min_samples_split': 2, 'n_estimators': 100}\n",
      "Gradient Boosting Regressor MSE: 0.17251675994636878\n",
      "  Mean Absolute Error (MAE): 0.39085206834342956\n",
      "  Median Absolute Error (MedAE): 0.418306305122897\n",
      "  R-squared (R2): 0.5787451322730477\n"
     ]
    }
   ],
   "source": [
    "from sklearn.ensemble import GradientBoostingRegressor\n",
    "\n",
    "gb_param_grid = {\n",
    "    'n_estimators': [100, 200, 300],\n",
    "    'learning_rate': [0.1, 0.05, 0.01],\n",
    "    'max_depth': [3, 5, 10],\n",
    "    'min_samples_split': [2, 5, 10]\n",
    "}\n",
    "# Perform GridSearchCV for Gradient Boosting Regressor\n",
    "gb_grid_search = GridSearchCV(GradientBoostingRegressor(), gb_param_grid, cv=tscv, scoring='neg_mean_squared_error')\n",
    "gb_grid_search.fit(X_train, y_train)\n",
    "\n",
    "# Print best parameters found for Gradient Boosting Regressor\n",
    "print(\"Gradient Boosting Regressor Best parameters:\", gb_grid_search.best_params_)\n",
    "\n",
    "# Train Gradient Boosting Regressor with best parameters\n",
    "best_gb_model = gb_grid_search.best_estimator_\n",
    "\n",
    "# Make predictions with Gradient Boosting Regressor\n",
    "gb_predictions = best_gb_model.predict(X_test)\n",
    "\n",
    "# Evaluate Gradient Boosting Regressor\n",
    "gb_mse = mean_squared_error(y_test, gb_predictions)\n",
    "print(\"Gradient Boosting Regressor MSE:\", gb_mse)\n",
    "mae = mean_absolute_error(y_test, gb_predictions)\n",
    "medae = median_absolute_error(y_test, gb_predictions)\n",
    "r2 = r2_score(y_test, gb_predictions)\n",
    "print(f\"  Mean Absolute Error (MAE): {mae}\")\n",
    "print(f\"  Median Absolute Error (MedAE): {medae}\")\n",
    "print(f\"  R-squared (R2): {r2}\")\n",
    "\n"
   ]
  },
  {
   "cell_type": "markdown",
   "id": "6ef4873e-d60f-4932-ab7c-1af5692ca69c",
   "metadata": {},
   "source": [
    "# 4) XGB Regressor"
   ]
  },
  {
   "cell_type": "code",
   "execution_count": 5,
   "id": "5633f55a-a83f-4b5b-b7e3-44eac43b03ac",
   "metadata": {},
   "outputs": [
    {
     "name": "stdout",
     "output_type": "stream",
     "text": [
      "XGBoost Regressor Best parameters: {'colsample_bytree': 0.8, 'learning_rate': 0.1, 'max_depth': 3, 'n_estimators': 200, 'subsample': 1.0}\n",
      "XGBoost Regressor MSE: 0.11467848936809036\n",
      "  Mean Absolute Error (MAE): 0.25091174192292354\n",
      "  Median Absolute Error (MedAE): 0.17688411561940764\n",
      "  R-squared (R2): 0.7199757757744834\n"
     ]
    }
   ],
   "source": [
    "from xgboost import XGBRegressor\n",
    "\n",
    "# Define parameter grid for XGBoost Regressor\n",
    "xgb_param_grid = {\n",
    "    'n_estimators': [100, 200, 300],\n",
    "    'learning_rate': [0.1, 0.05, 0.01],\n",
    "    'max_depth': [3, 5, 10],\n",
    "    'subsample': [0.8, 1.0],\n",
    "    'colsample_bytree': [0.8, 1.0]\n",
    "}\n",
    "\n",
    "# Perform GridSearchCV for XGBoost Regressor\n",
    "xgb_grid_search = GridSearchCV(XGBRegressor(), xgb_param_grid, cv=5, scoring='neg_mean_squared_error')\n",
    "xgb_grid_search.fit(X_train, y_train)\n",
    "\n",
    "# Print best parameters found for XGBoost Regressor\n",
    "print(\"XGBoost Regressor Best parameters:\", xgb_grid_search.best_params_)\n",
    "\n",
    "# Train XGBoost Regressor with best parameters\n",
    "best_xgb_model = xgb_grid_search.best_estimator_\n",
    "\n",
    "# Make predictions with XGBoost Regressor\n",
    "xgb_predictions = best_xgb_model.predict(X_test)\n",
    "\n",
    "# Evaluate XGBoost Regressor\n",
    "xgb_mse = mean_squared_error(y_test, xgb_predictions)\n",
    "print(\"XGBoost Regressor MSE:\", xgb_mse)\n",
    "\n",
    "# Evaluate the model\n",
    "mae = mean_absolute_error(y_test, xgb_predictions)\n",
    "medae = median_absolute_error(y_test, xgb_predictions)\n",
    "r2 = r2_score(y_test, xgb_predictions)\n",
    "print(f\"  Mean Absolute Error (MAE): {mae}\")\n",
    "print(f\"  Median Absolute Error (MedAE): {medae}\")\n",
    "print(f\"  R-squared (R2): {r2}\")\n"
   ]
  },
  {
   "cell_type": "markdown",
   "id": "6a81a8b9-04a5-49a4-acc5-11ab36710537",
   "metadata": {},
   "source": [
    "# 5) SVR"
   ]
  },
  {
   "cell_type": "code",
   "execution_count": 6,
   "id": "2918fc14-c0c7-41ef-abde-62fd40f5f917",
   "metadata": {},
   "outputs": [
    {
     "name": "stdout",
     "output_type": "stream",
     "text": [
      "SVR Best parameters: {'C': 1, 'gamma': 'scale', 'kernel': 'linear'}\n",
      "SVR MSE: 0.06678059204087228\n",
      "  Mean Absolute Error (MAE): 0.2090695772864192\n",
      "  Median Absolute Error (MedAE): 0.21578289922077226\n",
      "  R-squared (R2): 0.8369338174699626\n"
     ]
    }
   ],
   "source": [
    "from sklearn.svm import SVR\n",
    "\n",
    "# Define parameter grid for SVR\n",
    "svr_param_grid = {\n",
    "    'kernel': ['linear', 'poly', 'rbf'],\n",
    "    'C': [0.1, 1, 10],\n",
    "    'gamma': ['scale', 'auto']\n",
    "}\n",
    "\n",
    "# Perform GridSearchCV for SVR\n",
    "svr_grid_search = GridSearchCV(SVR(), svr_param_grid, cv=5, scoring='neg_mean_squared_error')\n",
    "svr_grid_search.fit(X_train, y_train)\n",
    "\n",
    "# Print best parameters found for SVR\n",
    "print(\"SVR Best parameters:\", svr_grid_search.best_params_)\n",
    "\n",
    "# Train SVR with best parameters\n",
    "best_svr_model = svr_grid_search.best_estimator_\n",
    "\n",
    "# Make predictions with SVR\n",
    "svr_predictions = best_svr_model.predict(X_test)\n",
    "\n",
    "# Evaluate SVR\n",
    "svr_mse = mean_squared_error(y_test, svr_predictions)\n",
    "print(\"SVR MSE:\", svr_mse)\n",
    "\n",
    "# Evaluate the model\n",
    "mae = mean_absolute_error(y_test, svr_predictions)\n",
    "medae = median_absolute_error(y_test, svr_predictions)\n",
    "r2 = r2_score(y_test, svr_predictions)\n",
    "print(f\"  Mean Absolute Error (MAE): {mae}\")\n",
    "print(f\"  Median Absolute Error (MedAE): {medae}\")\n",
    "print(f\"  R-squared (R2): {r2}\")"
   ]
  },
  {
   "cell_type": "markdown",
   "id": "9a1f1325-33f5-4338-ae60-6a5532195625",
   "metadata": {},
   "source": [
    "# 6) MLP Regressor"
   ]
  },
  {
   "cell_type": "code",
   "execution_count": 7,
   "id": "7a82e381-e958-483f-8193-a8d95c034f9f",
   "metadata": {},
   "outputs": [
    {
     "name": "stdout",
     "output_type": "stream",
     "text": [
      "MLP Regressor Best parameters: {'activation': 'tanh', 'alpha': 0.01, 'hidden_layer_sizes': (50, 50), 'solver': 'lbfgs'}\n",
      "MLP Regressor MSE: 0.058447092989241424\n",
      "  Mean Absolute Error (MAE): 0.18766570995764703\n",
      "  Median Absolute Error (MedAE): 0.16606513580288695\n",
      "  R-squared (R2): 0.85728272178389\n"
     ]
    }
   ],
   "source": [
    "from sklearn.neural_network import MLPRegressor\n",
    "\n",
    "# Define parameter grid for MLP Regressor\n",
    "mlp_param_grid = {\n",
    "    'hidden_layer_sizes': [(100,), (50, 50), (100, 50, 100)],\n",
    "    'activation': ['relu', 'tanh'],\n",
    "    'solver': ['adam', 'lbfgs'],\n",
    "    'alpha': [0.0001, 0.001, 0.01]\n",
    "}\n",
    "\n",
    "# Perform GridSearchCV for MLP Regressor\n",
    "mlp_grid_search = GridSearchCV(MLPRegressor(), mlp_param_grid, cv=5, scoring='neg_mean_squared_error')\n",
    "mlp_grid_search.fit(X_train, y_train)\n",
    "\n",
    "# Print best parameters found for MLP Regressor\n",
    "print(\"MLP Regressor Best parameters:\", mlp_grid_search.best_params_)\n",
    "\n",
    "# Train MLP Regressor with best parameters\n",
    "best_mlp_model = mlp_grid_search.best_estimator_\n",
    "\n",
    "# Make predictions with MLP Regressor\n",
    "mlp_predictions = best_mlp_model.predict(X_test)\n",
    "\n",
    "# Evaluate MLP Regressor\n",
    "mlp_mse = mean_squared_error(y_test, mlp_predictions)\n",
    "print(\"MLP Regressor MSE:\", mlp_mse)\n",
    "\n",
    "# Evaluate the model\n",
    "mae = mean_absolute_error(y_test, mlp_predictions)\n",
    "medae = median_absolute_error(y_test, mlp_predictions)\n",
    "r2 = r2_score(y_test, mlp_predictions)\n",
    "print(f\"  Mean Absolute Error (MAE): {mae}\")\n",
    "print(f\"  Median Absolute Error (MedAE): {medae}\")\n",
    "print(f\"  R-squared (R2): {r2}\")\n"
   ]
  },
  {
   "cell_type": "markdown",
   "id": "22d2aa3b-afdb-43ee-b527-a1f530708a42",
   "metadata": {},
   "source": [
    "The linear regression model provides insights into the relationship between input features and app ratings, which performs best out of all other models used with a higher R-squared (R2): 0.895 and all other metric values are lower. Now, we can analyze feature importance and identify the features that have the most significant impact on app ratings, thereby informing decision-making and potentially improving app performance and user satisfaction."
   ]
  },
  {
   "cell_type": "markdown",
   "id": "a6697d1f-dcef-4468-9892-7a435678bfe0",
   "metadata": {},
   "source": [
    "## Linear Regression: Feature importance"
   ]
  },
  {
   "cell_type": "code",
   "execution_count": 8,
   "id": "c5328b58-33e8-46cd-af88-713487cc9d32",
   "metadata": {},
   "outputs": [],
   "source": [
    "# Get the coefficients of the linear regression model\n",
    "coefficients = linear_model.coef_\n",
    "\n",
    "# Get the names of the features\n",
    "feature_names = X_train.columns\n",
    "\n",
    "# Create a DataFrame to store the coefficients and their corresponding feature names\n",
    "coefficients_df = pd.DataFrame({'Feature': feature_names, 'Coefficient': coefficients})\n",
    "\n",
    "# Sort the DataFrame by the absolute values of the coefficients in descending order\n",
    "coefficients_df['Absolute Coefficient'] = np.abs(coefficients_df['Coefficient'])\n",
    "coefficients_df_sorted = coefficients_df.sort_values(by='Absolute Coefficient', ascending=False)\n",
    "\n",
    "# Get the top 10 important features\n",
    "top_10_features = coefficients_df_sorted.head(10)\n",
    "\n",
    "# Print or visualize the top 10 important features\n",
    "#print(top_10_features)\n"
   ]
  },
  {
   "cell_type": "code",
   "execution_count": 9,
   "id": "c8e43579-5f10-4710-a664-ac4d939538bd",
   "metadata": {},
   "outputs": [
    {
     "data": {
      "image/png": "[encoded data removed]",
      "text/plain": [
       "<Figure size 1000x600 with 1 Axes>"
      ]
     },
     "metadata": {},
     "output_type": "display_data"
    }
   ],
   "source": [
    "import matplotlib.pyplot as plt\n",
    "\n",
    "# Plotting the top 10 important features and their coefficients\n",
    "plt.figure(figsize=(10, 6))\n",
    "plt.bar(top_10_features['Feature'], top_10_features['Coefficient'])\n",
    "plt.xlabel('Feature')\n",
    "plt.ylabel('Coefficient')\n",
    "plt.title('Top 10 Important Features and Their Coefficients')\n",
    "plt.xticks(rotation=45, ha='right')  \n",
    "plt.show()\n"
   ]
  },
  {
   "cell_type": "markdown",
   "id": "d55b988d-742c-4f34-a91c-cb645a2da515",
   "metadata": {},
   "source": [
    "The coefficients obtained from the linear regression model indicate the strength and direction of the relationship between each feature and the target variable (the app's rating). Here's how we can interpret the coefficients of the top 10 important features:\n",
    "\n",
    "* **Rating_to_Stock_Price_Ratio:** This feature represents the ratio of the app's rating to its stock price. A higher ratio indicates that the app is perceived positively relative to its market value. Apps with a higher ratio are likely to have higher ratings because investors and users perceive them as valuable and desirable.\n",
    "* **Interaction_Rating_Volume:** This feature has a negative coefficient, indicating a negative relationship with the app's rating. Higher interaction rating volumes may correspond to lower ratings.\n",
    "* **Rating Count:** This feature has a positive coefficient, suggesting a positive relationship with the app's rating. Apps with more rating counts tend to have higher ratings.\n",
    "* **Category_Weather:** This categorical feature has a negative coefficient, indicating that apps categorized as \"Weather\" tend to have lower ratings compared to other categories.\n",
    "* **Category_Word:** This categorical feature has a positive coefficient, suggesting that apps categorized as \"Word\" tend to have higher ratings compared to other categories.\n",
    "* **Category_Trivia:** This categorical feature has a positive coefficient, indicating that apps categorized as \"Trivia\" tend to have higher ratings compared to other categories.\n",
    "* **Install_Range:** This feature has a positive coefficient, suggesting a positive relationship with the app's rating. A wider install range may correspond to higher ratings.\n",
    "* **Close_Mean:** This feature has a positive coefficient, indicating a positive relationship with the app's rating. Higher average closing stock prices may correspond to higher ratings.\n",
    "* **Installs:** This feature has a negative coefficient, suggesting a negative relationship with the app's rating. Apps with higher installation numbers may have lower ratings.\n",
    "* **Category_Events:** This categorical feature has a negative coefficient, indicating that apps categorized as \"Events\" tend to have lower ratings compared to other categories."
   ]
  },
  {
   "cell_type": "markdown",
   "id": "ec188693-eeae-44ab-9793-1d9879854260",
   "metadata": {},
   "source": [
    "# SUMMARY"
   ]
  },
  {
   "cell_type": "markdown",
   "id": "ebef0d8d-efb5-4a18-91de-a5a3a173cd55",
   "metadata": {},
   "source": [
    "\n",
    "The linear regression model, Random Forest Regressor, Gradient Boosting Regressor, XGB Regressor, SVR, MLP Regressor is trained and evaluated on the dataset. Evaluation metrics such as MSE, MAE, MedAE, and R2 are used to assess the model's performance. Found that Linear Regression model performs best with an R-squared (R2): 0.895. Feature importance analysis helps identify the key features that contribute to predicting app ratings. The feature importance plot provides a visual representation of the most important features and their coefficients."
   ]
  }
 ],
 "metadata": {
  "kernelspec": {
   "display_name": "Python 3 (ipykernel)",
   "language": "python",
   "name": "python3"
  },
  "language_info": {
   "codemirror_mode": {
    "name": "ipython",
    "version": 3
   },
   "file_extension": ".py",
   "mimetype": "text/x-python",
   "name": "python",
   "nbconvert_exporter": "python",
   "pygments_lexer": "ipython3",
   "version": "3.11.5"
  }
 },
 "nbformat": 4,
 "nbformat_minor": 5
}
