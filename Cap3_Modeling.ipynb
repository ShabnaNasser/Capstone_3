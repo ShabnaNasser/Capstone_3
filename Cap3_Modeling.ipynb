{
 "cells": [
  {
   "cell_type": "markdown",
   "id": "f123591d-666f-4e7e-9f7a-9963fc96b137",
   "metadata": {},
   "source": [
    "# <center>**GOOGLE PLAY STORE APPS: ANALYSIS & RATING PREDICTION**</center>\n"
   ]
  },
  {
   "cell_type": "code",
   "execution_count": 1,
   "id": "9cbdee52-e559-4a56-a716-27d4a655c361",
   "metadata": {},
   "outputs": [],
   "source": [
    "# %run /Users/shabnanasser/workplace/git/Capstone_3/Cap3_Preprocessing.ipynb"
   ]
  },
  {
   "cell_type": "markdown",
   "id": "eba75a86-8d17-4801-96fc-de6d2425ff5f",
   "metadata": {},
   "source": [
    "# Modeling"
   ]
  },
  {
   "cell_type": "markdown",
   "id": "c68f7b19-afe6-476a-aca4-e7256c1daaf0",
   "metadata": {},
   "source": [
    "In the Data Modeling section, we are going to train our standardised data with three different ML models: Linear Regression, Random Forest Regressor, Gradient Boosting Regressor, XGB Regressor, SVR, MLP Regressor. Also, we will check the Mean Squared Error (MSE), Mean Absolute Error (MAE), Median Absolute Error (MedAE), R-squared (R2) of each model and find the best performing model among them."
   ]
  },
  {
   "cell_type": "markdown",
   "id": "2081c2b3-553b-4bba-831a-022b8246391b",
   "metadata": {},
   "source": [
    "# 1) Linear Regression"
   ]
  },
  {
   "cell_type": "code",
   "execution_count": 2,
   "id": "b8557b0f-aba8-4dd1-a767-92cbf7826cbb",
   "metadata": {},
   "outputs": [
    {
     "name": "stdout",
     "output_type": "stream",
     "text": [
      "Linear Regression:\n",
      "  Cross-Validation Mean Squared Error (MSE): 0.4919303821009479\n",
      "  Mean Squared Error (MSE): 0.5389688542667883\n",
      "  Mean Absolute Error (MAE): 0.5274707410847345\n",
      "  Median Absolute Error (MedAE): 0.39039503083325805\n",
      "  R-squared (R2): 0.4572752635091919\n"
     ]
    }
   ],
   "source": [
    "from sklearn.model_selection import GridSearchCV\n",
    "from sklearn.model_selection import cross_val_score\n",
    "from sklearn.metrics import mean_squared_error, mean_absolute_error, median_absolute_error, r2_score\n",
    "from sklearn.linear_model import LinearRegression\n",
    "\n",
    "# Define the model\n",
    "linear_model = LinearRegression()\n",
    "\n",
    "# Perform cross-validation\n",
    "linear_cv_scores = cross_val_score(linear_model, X_train, y_train, cv=5, scoring='neg_mean_squared_error')\n",
    "\n",
    "# Fit the model\n",
    "linear_model.fit(X_train, y_train)\n",
    "\n",
    "# Make predictions\n",
    "y_pred = linear_model.predict(X_test)\n",
    "\n",
    "# Evaluate the model\n",
    "mse = mean_squared_error(y_test, y_pred)\n",
    "mae = mean_absolute_error(y_test, y_pred)\n",
    "medae = median_absolute_error(y_test, y_pred)\n",
    "r2 = r2_score(y_test, y_pred)\n",
    "\n",
    "# Print evaluation metrics\n",
    "print(\"Linear Regression:\")\n",
    "print(f\"  Cross-Validation Mean Squared Error (MSE): {-linear_cv_scores.mean()}\")\n",
    "print(f\"  Mean Squared Error (MSE): {mse}\")\n",
    "print(f\"  Mean Absolute Error (MAE): {mae}\")\n",
    "print(f\"  Median Absolute Error (MedAE): {medae}\")\n",
    "print(f\"  R-squared (R2): {r2}\")\n",
    "\n"
   ]
  },
  {
   "cell_type": "markdown",
   "id": "2ae5f1ca-d3fd-406a-b902-3d33655c3504",
   "metadata": {},
   "source": [
    "# 2) Random Forest Regressor"
   ]
  },
  {
   "cell_type": "code",
   "execution_count": 7,
   "id": "5985dc30-9be1-44bb-800b-637aba0e696e",
   "metadata": {},
   "outputs": [
    {
     "name": "stdout",
     "output_type": "stream",
     "text": [
      "Random Forest Regressor:\n",
      "  Cross-Validation Mean Squared Error (MSE): 0.28293898991872996\n",
      "  Mean Squared Error (MSE): 0.3001001930394997\n",
      "  Mean Absolute Error (MAE): 0.36772011949795885\n",
      "  Median Absolute Error (MedAE): 0.24506689248329827\n",
      "  R-squared (R2): 0.6978085154664948\n"
     ]
    }
   ],
   "source": [
    "from sklearn.ensemble import RandomForestRegressor\n",
    "\n",
    "# Define the model\n",
    "rf_model = RandomForestRegressor()\n",
    "\n",
    "# Perform cross-validation\n",
    "rf_cv_scores = cross_val_score(rf_model, X_train, y_train, cv=5, scoring='neg_mean_squared_error')\n",
    "\n",
    "# Fit the model\n",
    "rf_model.fit(X_train, y_train)\n",
    "\n",
    "# Make predictions\n",
    "rf_predictions = rf_model.predict(X_test)\n",
    "\n",
    "# Evaluate the model\n",
    "rf_mse = mean_squared_error(y_test, rf_predictions)\n",
    "rf_mae = mean_absolute_error(y_test, rf_predictions)\n",
    "rf_medae = median_absolute_error(y_test, rf_predictions)\n",
    "rf_r2 = r2_score(y_test, rf_predictions)\n",
    "\n",
    "# Print evaluation metrics\n",
    "print(\"Random Forest Regressor:\")\n",
    "print(f\"  Cross-Validation Mean Squared Error (MSE): {-rf_cv_scores.mean()}\")\n",
    "print(f\"  Mean Squared Error (MSE): {rf_mse}\")\n",
    "print(f\"  Mean Absolute Error (MAE): {rf_mae}\")\n",
    "print(f\"  Median Absolute Error (MedAE): {rf_medae}\")\n",
    "print(f\"  R-squared (R2): {rf_r2}\")\n"
   ]
  },
  {
   "cell_type": "markdown",
   "id": "0fdbc8ea-9c37-488a-874d-e0f9d2209019",
   "metadata": {},
   "source": [
    "# 3) Gradient Boosting Regressor"
   ]
  },
  {
   "cell_type": "code",
   "execution_count": 8,
   "id": "a74a678c-343a-496f-8637-da50179fa21f",
   "metadata": {},
   "outputs": [
    {
     "name": "stdout",
     "output_type": "stream",
     "text": [
      "Gradient Boosting Regressor:\n",
      "Mean Squared Error (MSE): 0.3075857780112159\n",
      "  Mean Absolute Error (MAE): 0.3922856904422037\n",
      "  Median Absolute Error (MedAE): 0.27523158996026087\n",
      "  R-squared (R2): 0.6902707661158742\n"
     ]
    }
   ],
   "source": [
    "from sklearn.ensemble import GradientBoostingRegressor\n",
    "\n",
    "# Perform GridSearchCV for Gradient Boosting Regressor\n",
    "gb_grid_search = GridSearchCV(GradientBoostingRegressor(), param_grid={}, cv=5, scoring='neg_mean_squared_error')\n",
    "gb_grid_search.fit(X_train, y_train)\n",
    "\n",
    "# Make predictions\n",
    "gb_predictions = gb_grid_search.predict(X_test)\n",
    "\n",
    "# Evaluate Gradient Boosting Regressor\n",
    "gb_mse = mean_squared_error(y_test, gb_predictions)\n",
    "mae = mean_absolute_error(y_test, gb_predictions)\n",
    "medae = median_absolute_error(y_test, gb_predictions)\n",
    "r2 = r2_score(y_test, gb_predictions)\n",
    "print(\"Gradient Boosting Regressor:\")\n",
    "print(\"Mean Squared Error (MSE):\", gb_mse)\n",
    "print(f\"  Mean Absolute Error (MAE): {mae}\")\n",
    "print(f\"  Median Absolute Error (MedAE): {medae}\")\n",
    "print(f\"  R-squared (R2): {r2}\")\n"
   ]
  },
  {
   "cell_type": "markdown",
   "id": "6ef4873e-d60f-4932-ab7c-1af5692ca69c",
   "metadata": {},
   "source": [
    "# 4) XGB Regressor"
   ]
  },
  {
   "cell_type": "code",
   "execution_count": 9,
   "id": "5633f55a-a83f-4b5b-b7e3-44eac43b03ac",
   "metadata": {},
   "outputs": [
    {
     "name": "stdout",
     "output_type": "stream",
     "text": [
      "XGBoost Regressor:\n",
      "Mean Squared Error (MSE): 0.36387869902463194\n",
      "  Mean Absolute Error (MAE): 0.3998809284333865\n",
      "  Median Absolute Error (MedAE): 0.2248046436060971\n",
      "  R-squared (R2): 0.6335855597603672\n"
     ]
    }
   ],
   "source": [
    "from xgboost import XGBRegressor\n",
    "# Define the model\n",
    "xgb_model = XGBRegressor()\n",
    "\n",
    "# Fit the model\n",
    "xgb_model.fit(X_train, y_train)\n",
    "\n",
    "# Make predictions\n",
    "xgb_predictions = xgb_model.predict(X_test)\n",
    "\n",
    "\n",
    "# Evaluate XGBoost Regressor\n",
    "xgb_mse = mean_squared_error(y_test, xgb_predictions)\n",
    "\n",
    "# Evaluate the model\n",
    "mae = mean_absolute_error(y_test, xgb_predictions)\n",
    "medae = median_absolute_error(y_test, xgb_predictions)\n",
    "r2 = r2_score(y_test, xgb_predictions)\n",
    "print(\"XGBoost Regressor:\")\n",
    "print(\"Mean Squared Error (MSE):\", xgb_mse)\n",
    "print(f\"  Mean Absolute Error (MAE): {mae}\")\n",
    "print(f\"  Median Absolute Error (MedAE): {medae}\")\n",
    "print(f\"  R-squared (R2): {r2}\")\n"
   ]
  },
  {
   "cell_type": "markdown",
   "id": "6a81a8b9-04a5-49a4-acc5-11ab36710537",
   "metadata": {},
   "source": [
    "# 5) SVR"
   ]
  },
  {
   "cell_type": "code",
   "execution_count": 10,
   "id": "2918fc14-c0c7-41ef-abde-62fd40f5f917",
   "metadata": {},
   "outputs": [
    {
     "name": "stdout",
     "output_type": "stream",
     "text": [
      "Best parameters: {'C': 10, 'gamma': 'auto', 'kernel': 'rbf'}\n",
      "SVR:\n",
      "Mean Squared Error (MSE): 0.4776302829106234\n",
      "  Mean Absolute Error (MAE): 0.4460357863777332\n",
      "  Median Absolute Error (MedAE): 0.278788748539337\n",
      "  R-squared (R2): 0.5190412815498535\n"
     ]
    }
   ],
   "source": [
    "from sklearn.model_selection import GridSearchCV\n",
    "from sklearn.svm import SVR\n",
    "\n",
    "# Define the parameter grid\n",
    "param_grid = {\n",
    "    'kernel': ['linear', 'rbf', 'poly'],\n",
    "    'C': [0.1, 1, 10],\n",
    "    'gamma': ['scale', 'auto']\n",
    "}\n",
    "\n",
    "# Create SVR model\n",
    "svr_model = SVR()\n",
    "\n",
    "# Perform GridSearchCV\n",
    "grid_search = GridSearchCV(estimator=svr_model, param_grid=param_grid, cv=5, scoring='neg_mean_squared_error')\n",
    "grid_search.fit(X_train, y_train)\n",
    "\n",
    "# Print the best parameters found\n",
    "print(\"Best parameters:\", grid_search.best_params_)\n",
    "\n",
    "# Get the best SVR model\n",
    "best_svr_model = grid_search.best_estimator_\n",
    "\n",
    "# Make predictions\n",
    "svr_predictions = best_svr_model.predict(X_test)\n",
    "\n",
    "# Evaluate SVR\n",
    "svr_mse = mean_squared_error(y_test, svr_predictions)\n",
    "\n",
    "\n",
    "# Evaluate the model\n",
    "mae = mean_absolute_error(y_test, svr_predictions)\n",
    "medae = median_absolute_error(y_test, svr_predictions)\n",
    "r2 = r2_score(y_test, svr_predictions)\n",
    "print(\"SVR:\")\n",
    "print(\"Mean Squared Error (MSE):\", svr_mse)\n",
    "print(f\"  Mean Absolute Error (MAE): {mae}\")\n",
    "print(f\"  Median Absolute Error (MedAE): {medae}\")\n",
    "print(f\"  R-squared (R2): {r2}\")"
   ]
  },
  {
   "cell_type": "markdown",
   "id": "9a1f1325-33f5-4338-ae60-6a5532195625",
   "metadata": {},
   "source": [
    "# 6) MLP Regressor"
   ]
  },
  {
   "cell_type": "code",
   "execution_count": 11,
   "id": "7a82e381-e958-483f-8193-a8d95c034f9f",
   "metadata": {},
   "outputs": [
    {
     "name": "stdout",
     "output_type": "stream",
     "text": [
      "MLP Regressor:\n",
      "Mean Squared Error (MSE): 0.5975484425208006\n",
      "  Mean Absolute Error (MAE): 0.5109211862845358\n",
      "  Median Absolute Error (MedAE): 0.33679208769723634\n",
      "  R-squared (R2): 0.3982874549424994\n"
     ]
    }
   ],
   "source": [
    "from sklearn.neural_network import MLPRegressor\n",
    "#Define the model\n",
    "mlp_model = MLPRegressor()\n",
    "\n",
    "# Fit the model\n",
    "mlp_model.fit(X_train, y_train)\n",
    "\n",
    "# Make predictions\n",
    "mlp_predictions = mlp_model.predict(X_test)\n",
    "\n",
    "# Evaluate MLP Regressor\n",
    "mlp_mse = mean_squared_error(y_test, mlp_predictions)\n",
    "\n",
    "# Evaluate the model\n",
    "mae = mean_absolute_error(y_test, mlp_predictions)\n",
    "medae = median_absolute_error(y_test, mlp_predictions)\n",
    "r2 = r2_score(y_test, mlp_predictions)\n",
    "print(\"MLP Regressor:\")\n",
    "print(\"Mean Squared Error (MSE):\", mlp_mse)\n",
    "print(f\"  Mean Absolute Error (MAE): {mae}\")\n",
    "print(f\"  Median Absolute Error (MedAE): {medae}\")\n",
    "print(f\"  R-squared (R2): {r2}\")\n"
   ]
  },
  {
   "cell_type": "markdown",
   "id": "98a24258-d265-4149-935b-de4a2d85788f",
   "metadata": {},
   "source": [
    "# 7) Dummy Regressor"
   ]
  },
  {
   "cell_type": "code",
   "execution_count": 12,
   "id": "2be516df-ce56-4b46-843f-cb0947cff7fb",
   "metadata": {},
   "outputs": [
    {
     "name": "stdout",
     "output_type": "stream",
     "text": [
      "Dummy Regressor:\n",
      "  Mean Squared Error (MSE): 0.9975834654230846\n",
      "  R-squared (R2): -0.0045352697344038795\n"
     ]
    }
   ],
   "source": [
    "from sklearn.dummy import DummyRegressor\n",
    "from sklearn.metrics import mean_squared_error\n",
    "\n",
    "\n",
    "# Create a dummy regressor that always predicts the mean of the target variable\n",
    "dummy_regressor = DummyRegressor(strategy='mean')\n",
    "\n",
    "# Fit the dummy regressor to the training data\n",
    "dummy_regressor.fit(X_train, y_train)\n",
    "\n",
    "# Make predictions on the test data\n",
    "dummy_predictions = dummy_regressor.predict(X_test)\n",
    "\n",
    "# Evaluate the model\n",
    "dummy_mse = mean_squared_error(y_test, dummy_predictions)\n",
    "r2 = r2_score(y_test, dummy_predictions)\n",
    "# Print evaluation metrics\n",
    "print(\"Dummy Regressor:\")\n",
    "print(f\"  Mean Squared Error (MSE): {dummy_mse}\")\n",
    "print(f\"  R-squared (R2): {r2}\")\n"
   ]
  },
  {
   "cell_type": "markdown",
   "id": "22d2aa3b-afdb-43ee-b527-a1f530708a42",
   "metadata": {},
   "source": [
    "The Random Forest Regressor model provides insights into the relationship between input features and app ratings, which performs better out of all other models used with a higher R-squared (R2): 0.697 and all other metric values are lower. Now, we can analyze feature importance and identify the features that have the most significant impact on app ratings, thereby informing decision-making and potentially improving app performance and user satisfaction."
   ]
  },
  {
   "cell_type": "markdown",
   "id": "a6697d1f-dcef-4468-9892-7a435678bfe0",
   "metadata": {},
   "source": [
    "## Random Forest Regressor: Feature importance"
   ]
  },
  {
   "cell_type": "code",
   "execution_count": 13,
   "id": "c5328b58-33e8-46cd-af88-713487cc9d32",
   "metadata": {},
   "outputs": [
    {
     "data": {
      "image/png": "[encoded data removed]",
      "text/plain": [
       "<Figure size 1000x600 with 1 Axes>"
      ]
     },
     "metadata": {},
     "output_type": "display_data"
    }
   ],
   "source": [
    "import matplotlib.pyplot as plt\n",
    "\n",
    "# Get feature importances from the trained model\n",
    "feature_importances = rf_model.feature_importances_\n",
    "\n",
    "# Get the indices of the top 10 features sorted by importance\n",
    "top_12_indices = feature_importances.argsort()[-12:][::-1]\n",
    "\n",
    "# Get the names of the top 10 features\n",
    "top_12_features = X_train.columns[top_12_indices]\n",
    "\n",
    "# bar chart for feature importances\n",
    "plt.figure(figsize=(10, 6))\n",
    "plt.barh(range(len(top_12_features)), feature_importances[top_12_indices], align='center', color='skyblue')\n",
    "plt.yticks(range(len(top_12_features)), top_12_features)\n",
    "plt.xlabel('Feature Importance')\n",
    "plt.title('Top 12 Feature Importances')\n",
    "plt.gca().invert_yaxis()  \n",
    "plt.show()\n"
   ]
  },
  {
   "cell_type": "markdown",
   "id": "d55b988d-742c-4f34-a91c-cb645a2da515",
   "metadata": {},
   "source": [
    "The coefficients obtained from the random forest model indicate the strength and direction of the relationship between each feature and the target variable (the app's rating). Here's how we can interpret the top  important features:\n",
    "* **Install_Range:** This feature likely represents a range of installation counts for the app. It could indicate the popularity or demand for the app. Apps with higher installation ranges might have more visibility or user engagement, potentially leading to higher ratings.\n",
    "* **Editors Choice_Yes**: This indicates whether the app has been selected as an Editor's Choice. Being chosen as an Editor's Choice can provide additional exposure and credibility for the app, which may positively influence user perception and ratings.\n",
    "* **In App Purchases_Yes**: This binary feature signifies whether the app offers in-app purchases. Apps with in-app purchases might provide additional content, features, or benefits to users, enhancing their overall experience and potentially leading to higher ratings.\n",
    "* **Rating Count**: This feature represents the total number of ratings received by the app. Higher rating counts indicate greater user feedback and engagement. Apps with a large number of ratings may be perceived as more established or trustworthy, influencing potential users and their ratings.\n",
    "* **Interaction_Rating_Volume**: This feature could represent the volume or intensity of interactions (e.g., user reviews, comments, likes) related to the app. Higher interaction volumes might indicate greater user engagement or community activity, which could correlate with higher app ratings.\n",
    "* **Size**: This feature represents the size of the app in terms of storage space required for installation. While not directly related to app quality, smaller app sizes are generally preferred by users, as they consume less device storage and are quicker to download.\n",
    "* **App_Name_Length**: The length of the app name might indirectly influence ratings. Short, catchy names might be more memorable and easier to find in app stores, potentially leading to more downloads and higher ratings.\n",
    "* **Price**: The price of the app, if it's a paid app, can influence user perceptions of value. Users may have higher expectations for paid apps and thus provide more critical ratings compared to free apps.\n",
    "* **Installs**: This feature likely represents the total number of installations for the app. Higher installation numbers can signal popularity and trustworthiness, positively impacting user perceptions and ratings.\n",
    "* **Ad Supported_Yes**: This feature indicates whether the app contains advertisements. Ad-supported apps might offer free content in exchange for displaying ads, which could affect user experience and ratings depending on the implementation.\n",
    "* **Type_Paid**: This feature indicates whether the app is paid. Paid apps may have different user expectations compared to free apps, potentially affecting ratings."
   ]
  },
  {
   "cell_type": "markdown",
   "id": "ec188693-eeae-44ab-9793-1d9879854260",
   "metadata": {},
   "source": [
    "# SUMMARY"
   ]
  },
  {
   "cell_type": "markdown",
   "id": "ebef0d8d-efb5-4a18-91de-a5a3a173cd55",
   "metadata": {},
   "source": [
    "\n",
    "The linear regression model, Random Forest Regressor, Gradient Boosting Regressor, XGB Regressor, SVR, MLP Regressor is trained and evaluated on the dataset. Evaluation metrics such as MSE, MAE, MedAE, and R2 are used to assess the model's performance. Found thatRandom Forest model performs best with an R-squared (R2): 0.697. Feature importance analysis helps identify the key features that contribute to predicting app ratings. The feature importance plot provides a visual representation of the most important features and their coefficients."
   ]
  }
 ],
 "metadata": {
  "kernelspec": {
   "display_name": "Python 3 (ipykernel)",
   "language": "python",
   "name": "python3"
  },
  "language_info": {
   "codemirror_mode": {
    "name": "ipython",
    "version": 3
   },
   "file_extension": ".py",
   "mimetype": "text/x-python",
   "name": "python",
   "nbconvert_exporter": "python",
   "pygments_lexer": "ipython3",
   "version": "3.11.5"
  }
 },
 "nbformat": 4,
 "nbformat_minor": 5
}
