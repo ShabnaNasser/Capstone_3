{
 "cells": [
  {
   "cell_type": "markdown",
   "id": "f60e8b9a-5e02-418c-8654-148125751453",
   "metadata": {},
   "source": [
    "# <center>**GOOGLE PLAY STORE APPS: ANALYSIS & RATING PREDICTION**</center>\n"
   ]
  },
  {
   "cell_type": "code",
   "execution_count": 1,
   "id": "1179d5b9-b1f2-4190-ae53-1bdf9c72260a",
   "metadata": {},
   "outputs": [],
   "source": [
    "# %run /Users/shabnanasser/workplace/git/Capstone_3/Cap3_EDA.ipynb"
   ]
  },
  {
   "cell_type": "code",
   "execution_count": 2,
   "id": "c06cf14e-1754-4f4a-a52a-2b19f5664a67",
   "metadata": {},
   "outputs": [
    {
     "data": {
      "text/plain": [
       "(1483784, 28)"
      ]
     },
     "execution_count": 2,
     "metadata": {},
     "output_type": "execute_result"
    }
   ],
   "source": [
    "play_stock_data.shape"
   ]
  },
  {
   "cell_type": "code",
   "execution_count": 3,
   "id": "06348030-bbd9-4c4c-989e-efdc2b369f7e",
   "metadata": {},
   "outputs": [
    {
     "data": {
      "text/plain": [
       "Index(['App Name', 'Category', 'Rating', 'Rating Count', 'Installs',\n",
       "       'Minimum Installs', 'Maximum Installs', 'Price', 'Size', 'Released',\n",
       "       'Last Updated', 'Content Rating', 'Ad Supported', 'In App Purchases',\n",
       "       'Editors Choice', 'Type', 'Date', 'Open', 'High', 'Low', 'Close',\n",
       "       'Volume', 'Interaction_Rating_Volume', 'Duration_Since_Last_Update',\n",
       "       'App_Name_Length', 'Install_Range', 'Close_Mean',\n",
       "       'Rating_to_Stock_Price_Ratio'],\n",
       "      dtype='object')"
      ]
     },
     "execution_count": 3,
     "metadata": {},
     "output_type": "execute_result"
    }
   ],
   "source": [
    "play_stock_data.columns"
   ]
  },
  {
   "cell_type": "code",
   "execution_count": 4,
   "id": "439decd0-25a4-46e4-ac5b-17a7cb65ae2c",
   "metadata": {},
   "outputs": [],
   "source": [
    "#play_stock_data['Interaction_Rating_Volume'].nunique()"
   ]
  },
  {
   "cell_type": "code",
   "execution_count": 5,
   "id": "68841099-35f1-4f65-814c-edd21d57f67b",
   "metadata": {},
   "outputs": [
    {
     "data": {
      "text/plain": [
       "App Name                               object\n",
       "Category                               object\n",
       "Rating                                float64\n",
       "Rating Count                          float64\n",
       "Installs                                int64\n",
       "Minimum Installs                      float64\n",
       "Maximum Installs                        int64\n",
       "Price                                 float64\n",
       "Size                                  float64\n",
       "Released                       datetime64[ns]\n",
       "Last Updated                   datetime64[ns]\n",
       "Content Rating                         object\n",
       "Ad Supported                           object\n",
       "In App Purchases                       object\n",
       "Editors Choice                         object\n",
       "Type                                   object\n",
       "Date                           datetime64[ns]\n",
       "Open                                  float64\n",
       "High                                  float64\n",
       "Low                                   float64\n",
       "Close                                 float64\n",
       "Volume                                  int64\n",
       "Interaction_Rating_Volume             float64\n",
       "Duration_Since_Last_Update              int64\n",
       "App_Name_Length                         int64\n",
       "Install_Range                         float64\n",
       "Close_Mean                            float64\n",
       "Rating_to_Stock_Price_Ratio           float64\n",
       "dtype: object"
      ]
     },
     "execution_count": 5,
     "metadata": {},
     "output_type": "execute_result"
    }
   ],
   "source": [
    "play_stock_data.dtypes"
   ]
  },
  {
   "cell_type": "code",
   "execution_count": 6,
   "id": "d1cbf925-4ccf-487b-9ea3-b11f80a20264",
   "metadata": {},
   "outputs": [],
   "source": [
    "# Define the unwanted columns to drop\n",
    "unwanted_columns = ['App Name','Minimum Installs', 'Maximum Installs', 'Released', \n",
    "                    'Last Updated', 'Date', 'Open', 'High', 'Low', 'Close_Mean', \n",
    "                    'Volume', 'Duration_Since_Last_Update', 'Rating_to_Stock_Price_Ratio']\n",
    "\n",
    "# Drop the unwanted columns from the DataFrame\n",
    "play_stock_data.drop(unwanted_columns, axis=1, inplace=True)\n"
   ]
  },
  {
   "cell_type": "code",
   "execution_count": 7,
   "id": "fd3f6b7f-9493-4316-bf41-5c7b55262140",
   "metadata": {},
   "outputs": [],
   "source": [
    "# Define grouping columns\n",
    "group_columns = ['Category', 'Ad Supported', 'In App Purchases', 'Editors Choice', 'Type', 'Content Rating']\n",
    "#cat_column = ['App Name']\n",
    "num_columns = ['Rating', 'Rating Count', 'Installs', 'Size', 'Price', 'Interaction_Rating_Volume', 'App_Name_Length', 'Install_Range', 'Close']\n",
    "\n",
    "# Define aggregation functions for numerical columns\n",
    "aggregation_functions = {\n",
    "    'Rating': 'mean',  # Target variable\n",
    "    'Rating Count': 'sum',\n",
    "    'Installs': 'sum',\n",
    "    'Size': 'mean',\n",
    "    'Price': 'mean',\n",
    "    'Interaction_Rating_Volume': 'sum',\n",
    "    'App_Name_Length': 'mean',\n",
    "    'Install_Range': 'mean',\n",
    "    'Close': 'mean'\n",
    "}\n",
    "\n",
    "# Group the entire dataset by the chosen columns and apply aggregation functions\n",
    "aggregated_data = play_stock_data.groupby(group_columns).agg(aggregation_functions).reset_index()\n"
   ]
  },
  {
   "cell_type": "code",
   "execution_count": 9,
   "id": "b4ff532d-be99-486a-b809-5684c13109bc",
   "metadata": {},
   "outputs": [
    {
     "data": {
      "text/plain": [
       "Index(['Category', 'Ad Supported', 'In App Purchases', 'Editors Choice',\n",
       "       'Type', 'Content Rating', 'Rating', 'Rating Count', 'Installs', 'Size',\n",
       "       'Price', 'Interaction_Rating_Volume', 'App_Name_Length',\n",
       "       'Install_Range', 'Close'],\n",
       "      dtype='object')"
      ]
     },
     "execution_count": 9,
     "metadata": {},
     "output_type": "execute_result"
    }
   ],
   "source": [
    "aggregated_data.columns"
   ]
  },
  {
   "cell_type": "code",
   "execution_count": 10,
   "id": "225319a1-14f8-4912-82cc-feda3deb7285",
   "metadata": {},
   "outputs": [],
   "source": [
    "from sklearn.preprocessing import StandardScaler\n",
    "\n",
    "# One-hot encode categorical variables\n",
    "encoded_data = pd.get_dummies(aggregated_data, columns=group_columns, drop_first=True)\n",
    "\n",
    "# Standardize numerical variables\n",
    "scaler = StandardScaler()\n",
    "encoded_data[num_columns] = scaler.fit_transform(encoded_data[num_columns])\n"
   ]
  },
  {
   "cell_type": "code",
   "execution_count": 11,
   "id": "ae58c5cd-5f36-49c5-89b8-15ee97388ceb",
   "metadata": {},
   "outputs": [],
   "source": [
    "# Split into testing and training datasets\n",
    "X = encoded_data.drop('Rating', axis=1)  # Features\n",
    "y = encoded_data['Rating']  # Target variable"
   ]
  },
  {
   "cell_type": "code",
   "execution_count": 12,
   "id": "484baaf1-ea83-4618-8759-105e154f8621",
   "metadata": {},
   "outputs": [],
   "source": [
    "from sklearn.model_selection import train_test_split\n",
    "\n",
    "X_train, X_test, y_train, y_test = train_test_split(X, y, test_size=0.2, random_state=42)\n",
    "\n",
    "# Now, X_train, y_train are training features and target\n",
    "# And, X_test, y_test are testing features and target"
   ]
  },
  {
   "cell_type": "markdown",
   "id": "a10b54fc-e352-4a43-87c2-cd3f62a87b5d",
   "metadata": {},
   "source": [
    "# SUMMARY"
   ]
  },
  {
   "cell_type": "markdown",
   "id": "62f91d85-bbd7-4ec9-9591-5ed4955bee76",
   "metadata": {},
   "source": [
    "Using the cleaned dataset, create dummy or indicator features for categorical variables, Standardized the magnitude of numeric features using StandardScaler, seperated target column from the train set and finally splitted the data into testing and training sets.\n"
   ]
  }
 ],
 "metadata": {
  "kernelspec": {
   "display_name": "Python 3 (ipykernel)",
   "language": "python",
   "name": "python3"
  },
  "language_info": {
   "codemirror_mode": {
    "name": "ipython",
    "version": 3
   },
   "file_extension": ".py",
   "mimetype": "text/x-python",
   "name": "python",
   "nbconvert_exporter": "python",
   "pygments_lexer": "ipython3",
   "version": "3.11.5"
  }
 },
 "nbformat": 4,
 "nbformat_minor": 5
}
