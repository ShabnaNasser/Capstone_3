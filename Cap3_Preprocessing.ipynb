{
 "cells": [
  {
   "cell_type": "markdown",
   "id": "f60e8b9a-5e02-418c-8654-148125751453",
   "metadata": {},
   "source": [
    "# <center>**GOOGLE PLAY STORE APPS: ANALYSIS & RATING PREDICTION**</center>\n"
   ]
  },
  {
   "cell_type": "code",
   "execution_count": 1,
   "id": "1179d5b9-b1f2-4190-ae53-1bdf9c72260a",
   "metadata": {},
   "outputs": [],
   "source": [
    "#%run /Users/shabnanasser/workplace/git/Capstone_3/Cap3_EDA.ipynb"
   ]
  },
  {
   "cell_type": "code",
   "execution_count": 2,
   "id": "c06cf14e-1754-4f4a-a52a-2b19f5664a67",
   "metadata": {},
   "outputs": [
    {
     "data": {
      "text/plain": [
       "(1483784, 28)"
      ]
     },
     "execution_count": 2,
     "metadata": {},
     "output_type": "execute_result"
    }
   ],
   "source": [
    "play_stock_data.shape"
   ]
  },
  {
   "cell_type": "code",
   "execution_count": 3,
   "id": "06348030-bbd9-4c4c-989e-efdc2b369f7e",
   "metadata": {},
   "outputs": [
    {
     "data": {
      "text/plain": [
       "Index(['App Name', 'Category', 'Rating', 'Rating Count', 'Installs',\n",
       "       'Minimum Installs', 'Maximum Installs', 'Price', 'Size', 'Released',\n",
       "       'Last Updated', 'Content Rating', 'Ad Supported', 'In App Purchases',\n",
       "       'Editors Choice', 'Type', 'Date', 'Open', 'High', 'Low', 'Close',\n",
       "       'Volume', 'Interaction_Rating_Volume', 'Duration_Since_Last_Update',\n",
       "       'App_Name_Length', 'Install_Range', 'Close_Mean',\n",
       "       'Rating_to_Stock_Price_Ratio'],\n",
       "      dtype='object')"
      ]
     },
     "execution_count": 3,
     "metadata": {},
     "output_type": "execute_result"
    }
   ],
   "source": [
    "play_stock_data.columns"
   ]
  },
  {
   "cell_type": "code",
   "execution_count": 4,
   "id": "68841099-35f1-4f65-814c-edd21d57f67b",
   "metadata": {},
   "outputs": [
    {
     "data": {
      "text/plain": [
       "App Name                               object\n",
       "Category                               object\n",
       "Rating                                float64\n",
       "Rating Count                          float64\n",
       "Installs                                int64\n",
       "Minimum Installs                      float64\n",
       "Maximum Installs                        int64\n",
       "Price                                 float64\n",
       "Size                                  float64\n",
       "Released                       datetime64[ns]\n",
       "Last Updated                   datetime64[ns]\n",
       "Content Rating                         object\n",
       "Ad Supported                           object\n",
       "In App Purchases                       object\n",
       "Editors Choice                         object\n",
       "Type                                   object\n",
       "Date                           datetime64[ns]\n",
       "Open                                  float64\n",
       "High                                  float64\n",
       "Low                                   float64\n",
       "Close                                 float64\n",
       "Volume                                  int64\n",
       "Interaction_Rating_Volume             float64\n",
       "Duration_Since_Last_Update              int64\n",
       "App_Name_Length                         int64\n",
       "Install_Range                         float64\n",
       "Close_Mean                            float64\n",
       "Rating_to_Stock_Price_Ratio           float64\n",
       "dtype: object"
      ]
     },
     "execution_count": 4,
     "metadata": {},
     "output_type": "execute_result"
    }
   ],
   "source": [
    "play_stock_data.dtypes"
   ]
  },
  {
   "cell_type": "markdown",
   "id": "efa2062e-8e8f-48d3-9863-e835df5aa858",
   "metadata": {},
   "source": [
    "# Preprocessing"
   ]
  },
  {
   "cell_type": "code",
   "execution_count": 5,
   "id": "624bf117-c52b-428d-a632-4b448ba484b1",
   "metadata": {},
   "outputs": [],
   "source": [
    "#delete unwanted columns\n",
    "play_stock_data.drop(['Minimum Installs', 'Maximum Installs','Released', 'Last Updated','Date', 'Open', 'High', 'Low', 'Close','Volume'], axis=1, inplace = True)\n",
    "\n",
    "cat_columns = ['App Name','Category', 'Ad Supported', 'In App Purchases', 'Editors Choice', 'Type', 'Content Rating']\n",
    "num_columns = ['Rating', 'Rating Count','Installs', 'Size', 'Price','Interaction_Rating_Volume', 'Duration_Since_Last_Update', 'App_Name_Length', 'Install_Range', 'Close_Mean', 'Rating_to_Stock_Price_Ratio']\n"
   ]
  },
  {
   "cell_type": "code",
   "execution_count": 6,
   "id": "519a5d9b-1826-46ff-9244-cdea13b710d4",
   "metadata": {},
   "outputs": [],
   "source": [
    "#play_stock_data['Category'].nunique()"
   ]
  },
  {
   "cell_type": "code",
   "execution_count": 7,
   "id": "b258e14b-8578-412d-8a94-6766f7d32278",
   "metadata": {},
   "outputs": [],
   "source": [
    "# Group by 'Category' and calculate summary statistics for numerical columns\n",
    "aggregated_data = play_stock_data.groupby('Category').agg({\n",
    "    'Rating': 'mean',  # Calculate mean rating\n",
    "    'Rating Count': 'sum',  # Sum of rating counts for each category\n",
    "    'Installs': 'sum',  # Sum of installs for each category\n",
    "    'Size': 'mean',  # Mean size for each category\n",
    "    'Price': 'mean',  # Mean price for each category\n",
    "    'Interaction_Rating_Volume': 'sum',  # Sum of interaction rating volumes for each category\n",
    "    'Duration_Since_Last_Update': 'mean',  # Mean duration since last update for each category\n",
    "    'App_Name_Length': 'mean',  # Mean app name length for each category\n",
    "    'Install_Range': 'sum',  # Sum of install ranges for each category\n",
    "    'Close_Mean': 'mean',  # Mean close mean for each category\n",
    "    'Rating_to_Stock_Price_Ratio': 'mean'  # Mean rating to stock price ratio for each category\n",
    "    # Add more columns as needed\n",
    "})\n",
    "\n",
    "\n",
    "# Reset index to convert the grouped result to a DataFrame\n",
    "aggregated_data = aggregated_data.reset_index()\n",
    "\n",
    "# Print the aggregated data\n",
    "#print(aggregated_data)"
   ]
  },
  {
   "cell_type": "code",
   "execution_count": 8,
   "id": "cd4b2bbe-80dd-43b1-91c4-dfcbd66c3712",
   "metadata": {},
   "outputs": [],
   "source": [
    "#aggregated_data.shape"
   ]
  },
  {
   "cell_type": "code",
   "execution_count": 9,
   "id": "7649dfbf-6cf1-46fa-9a09-07b3e0a15763",
   "metadata": {},
   "outputs": [],
   "source": [
    "#aggregated_data.columns"
   ]
  },
  {
   "cell_type": "code",
   "execution_count": 10,
   "id": "2e6491e3-70b8-4666-87b3-d7d78615ecda",
   "metadata": {},
   "outputs": [],
   "source": [
    "from sklearn.preprocessing import StandardScaler\n",
    "\n",
    "# One-hot encode categorical variables\n",
    "encoded_data = pd.get_dummies(aggregated_data, columns=['Category'], drop_first=True)\n",
    "\n",
    "# Standardize numerical variables\n",
    "scaler = StandardScaler()\n",
    "encoded_data[num_columns] = scaler.fit_transform(encoded_data[num_columns])\n",
    "\n",
    "# Now you have encoded_data ready to be fed into machine learning models\n"
   ]
  },
  {
   "cell_type": "code",
   "execution_count": 11,
   "id": "967abb27-82c0-491a-92b7-b809956a8cda",
   "metadata": {},
   "outputs": [],
   "source": [
    "# Split into testing and training datasets\n",
    "X = encoded_data.drop('Rating', axis=1)  # Features\n",
    "y = encoded_data['Rating']  # Target variable"
   ]
  },
  {
   "cell_type": "markdown",
   "id": "454f3d39-9e00-4793-811b-d5dee4b50d47",
   "metadata": {},
   "source": [
    "## Train Test Split: Creating TRAIN and VALIDATION sets"
   ]
  },
  {
   "cell_type": "code",
   "execution_count": 12,
   "id": "0241253c-807a-4a57-a9dd-0cb63629122e",
   "metadata": {},
   "outputs": [],
   "source": [
    "from sklearn.model_selection import train_test_split\n",
    "\n",
    "X_train, X_test, y_train, y_test = train_test_split(X, y, test_size=0.2, random_state=42)\n",
    "\n",
    "# Now, X_train, y_train are training features and target\n",
    "# And, X_test, y_test are testing features and target"
   ]
  },
  {
   "cell_type": "markdown",
   "id": "059e2b38-7ab2-4a8c-ba08-e7b5d162bb63",
   "metadata": {},
   "source": [
    "# SUMMARY"
   ]
  },
  {
   "cell_type": "markdown",
   "id": "62f91d85-bbd7-4ec9-9591-5ed4955bee76",
   "metadata": {},
   "source": [
    "Using the cleaned dataset, create dummy or indicator features for categorical variables, Standardized the magnitude of numeric features using StandardScaler, seperated target column from the train set and finally splitted the data into testing and training sets.\n"
   ]
  }
 ],
 "metadata": {
  "kernelspec": {
   "display_name": "Python 3 (ipykernel)",
   "language": "python",
   "name": "python3"
  },
  "language_info": {
   "codemirror_mode": {
    "name": "ipython",
    "version": 3
   },
   "file_extension": ".py",
   "mimetype": "text/x-python",
   "name": "python",
   "nbconvert_exporter": "python",
   "pygments_lexer": "ipython3",
   "version": "3.11.5"
  }
 },
 "nbformat": 4,
 "nbformat_minor": 5
}
