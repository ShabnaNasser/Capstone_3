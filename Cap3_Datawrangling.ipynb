{
 "cells": [
  {
   "cell_type": "markdown",
   "id": "2c5f84ae-58d8-4a6a-ac2c-3756e174fb8b",
   "metadata": {},
   "source": [
    "# <center>**GOOGLE PLAY STORE APPS: ANALYSIS & RATING PREDICTION**</center>\n"
   ]
  },
  {
   "cell_type": "markdown",
   "id": "6f66287f-33a7-4f83-9f63-bf14cc19188d",
   "metadata": {},
   "source": [
    "In this project, we aim to leverage machine learning techniques to predict the ratings of mobile applications available on the Google Play Store. The project merges two distinct datasets, combining information from the Google Play Store Apps dataset and the Google stock market dataset. By merging these datasets, we seek to explore potential relationships between the performance of apps on the Play Store and Google's stock market data."
   ]
  },
  {
   "cell_type": "markdown",
   "id": "86e4698b-7568-4d62-aecd-8590a618b479",
   "metadata": {},
   "source": [
    "We use the datasets:\n",
    "\n",
    "1) Google Play Store Apps Dataset:\n",
    "This dataset contains detailed information about various mobile applications available on the Google Play Store. It includes data such as  App Name, Category, Rating, Installs, Price and other relevant features that characterize the apps.\n",
    "2) Google Stock Market Dataset:\n",
    "The stock market dataset provides historical data on Google's stock performance, capturing metrics like opening and closing prices, trading volumes, and other financial indicators over time."
   ]
  },
  {
   "cell_type": "markdown",
   "id": "cd044fcc-86d1-43d1-ba85-517e980343f8",
   "metadata": {},
   "source": [
    "<p><div style=\"text-align: justify;\">Merging datasets: The primary focus of the project is to merge these two datasets effectively, creating a unified dataset that combines information about app characteristics from the Google Play Store with Google's stock market performance data.\n",
    "Explore Correlations: With the merged dataset, we aim to explore potential correlations or patterns between the ratings of Google Play Store apps and Google's stock market indicators. This investigation may help identify any underlying relationships or dependencies between the success of mobile applications and the financial performance of the parent company.\n",
    "Rating Prediction Model: Develop a machine learning model to predict app ratings based on selected features from both datasets. This predictive model can be used to estimate the potential success of an app on the Play Store given certain characteristics and market conditions.</p></div>"
   ]
  },
  {
   "cell_type": "markdown",
   "id": "7a1f53f8-0b5c-4621-8d40-88bbc84fbd35",
   "metadata": {},
   "source": [
    "# Data Wrangling"
   ]
  },
  {
   "cell_type": "code",
   "execution_count": 1,
   "id": "72aaddca-2b62-40c7-b987-1b84e0a50886",
   "metadata": {},
   "outputs": [],
   "source": [
    "#importing required libraries\n",
    "import pandas as pd\n",
    "import numpy as np\n",
    "import matplotlib.pyplot as plt\n",
    "%matplotlib inline\n",
    "import seaborn as sns\n",
    "import warnings\n",
    "warnings.filterwarnings(\"ignore\")\n"
   ]
  },
  {
   "cell_type": "markdown",
   "id": "0bca8626-0eea-448b-b8d4-6f419d3d098b",
   "metadata": {},
   "source": [
    "### Load datasets"
   ]
  },
  {
   "cell_type": "code",
   "execution_count": 2,
   "id": "3d93e414-2536-4305-b862-968f68fa1313",
   "metadata": {},
   "outputs": [],
   "source": [
    "#loading google playstore_data and google stock market data\n",
    "playstore_data = pd.read_csv('Google-Playstore.csv')\n",
    "stock_data = pd.read_csv('GOOGL.csv')"
   ]
  },
  {
   "cell_type": "code",
   "execution_count": 3,
   "id": "a2b07527-8901-4561-ae49-3d734f060056",
   "metadata": {},
   "outputs": [
    {
     "name": "stdout",
     "output_type": "stream",
     "text": [
      "Shape of playstore_data: (2312944, 24)\n",
      "Shape of stock_data: (4041, 7)\n"
     ]
    }
   ],
   "source": [
    "# print shape of each dataset\n",
    "print('Shape of playstore_data:',playstore_data.shape)\n",
    "print('Shape of stock_data:',stock_data.shape)"
   ]
  },
  {
   "cell_type": "markdown",
   "id": "7e17ae00-a4d3-4c49-962b-3fb69d59d3a4",
   "metadata": {},
   "source": [
    "# playstore_data"
   ]
  },
  {
   "cell_type": "code",
   "execution_count": 4,
   "id": "2cf88bd5-d2e7-43ed-90be-1548253c8aa9",
   "metadata": {},
   "outputs": [
    {
     "data": {
      "text/html": [
       "<div>\n",
       "<style scoped>\n",
       "    .dataframe tbody tr th:only-of-type {\n",
       "        vertical-align: middle;\n",
       "    }\n",
       "\n",
       "    .dataframe tbody tr th {\n",
       "        vertical-align: top;\n",
       "    }\n",
       "\n",
       "    .dataframe thead th {\n",
       "        text-align: right;\n",
       "    }\n",
       "</style>\n",
       "<table border=\"1\" class=\"dataframe\">\n",
       "  <thead>\n",
       "    <tr style=\"text-align: right;\">\n",
       "      <th></th>\n",
       "      <th>App Name</th>\n",
       "      <th>App Id</th>\n",
       "      <th>Category</th>\n",
       "      <th>Rating</th>\n",
       "      <th>Rating Count</th>\n",
       "      <th>Installs</th>\n",
       "      <th>Minimum Installs</th>\n",
       "      <th>Maximum Installs</th>\n",
       "      <th>Free</th>\n",
       "      <th>Price</th>\n",
       "      <th>...</th>\n",
       "      <th>Developer Website</th>\n",
       "      <th>Developer Email</th>\n",
       "      <th>Released</th>\n",
       "      <th>Last Updated</th>\n",
       "      <th>Content Rating</th>\n",
       "      <th>Privacy Policy</th>\n",
       "      <th>Ad Supported</th>\n",
       "      <th>In App Purchases</th>\n",
       "      <th>Editors Choice</th>\n",
       "      <th>Scraped Time</th>\n",
       "    </tr>\n",
       "  </thead>\n",
       "  <tbody>\n",
       "    <tr>\n",
       "      <th>0</th>\n",
       "      <td>Gakondo</td>\n",
       "      <td>com.ishakwe.gakondo</td>\n",
       "      <td>Adventure</td>\n",
       "      <td>0.0</td>\n",
       "      <td>0.0</td>\n",
       "      <td>10+</td>\n",
       "      <td>10.0</td>\n",
       "      <td>15</td>\n",
       "      <td>True</td>\n",
       "      <td>0.0</td>\n",
       "      <td>...</td>\n",
       "      <td>https://beniyizibyose.tk/#/</td>\n",
       "      <td>jean21101999@gmail.com</td>\n",
       "      <td>Feb 26, 2020</td>\n",
       "      <td>Feb 26, 2020</td>\n",
       "      <td>Everyone</td>\n",
       "      <td>https://beniyizibyose.tk/projects/</td>\n",
       "      <td>False</td>\n",
       "      <td>False</td>\n",
       "      <td>False</td>\n",
       "      <td>2021-06-15 20:19:35</td>\n",
       "    </tr>\n",
       "    <tr>\n",
       "      <th>1</th>\n",
       "      <td>Ampere Battery Info</td>\n",
       "      <td>com.webserveis.batteryinfo</td>\n",
       "      <td>Tools</td>\n",
       "      <td>4.4</td>\n",
       "      <td>64.0</td>\n",
       "      <td>5,000+</td>\n",
       "      <td>5000.0</td>\n",
       "      <td>7662</td>\n",
       "      <td>True</td>\n",
       "      <td>0.0</td>\n",
       "      <td>...</td>\n",
       "      <td>https://webserveis.netlify.app/</td>\n",
       "      <td>webserveis@gmail.com</td>\n",
       "      <td>May 21, 2020</td>\n",
       "      <td>May 06, 2021</td>\n",
       "      <td>Everyone</td>\n",
       "      <td>https://dev4phones.wordpress.com/licencia-de-uso/</td>\n",
       "      <td>True</td>\n",
       "      <td>False</td>\n",
       "      <td>False</td>\n",
       "      <td>2021-06-15 20:19:35</td>\n",
       "    </tr>\n",
       "    <tr>\n",
       "      <th>2</th>\n",
       "      <td>Vibook</td>\n",
       "      <td>com.doantiepvien.crm</td>\n",
       "      <td>Productivity</td>\n",
       "      <td>0.0</td>\n",
       "      <td>0.0</td>\n",
       "      <td>50+</td>\n",
       "      <td>50.0</td>\n",
       "      <td>58</td>\n",
       "      <td>True</td>\n",
       "      <td>0.0</td>\n",
       "      <td>...</td>\n",
       "      <td>NaN</td>\n",
       "      <td>vnacrewit@gmail.com</td>\n",
       "      <td>Aug 9, 2019</td>\n",
       "      <td>Aug 19, 2019</td>\n",
       "      <td>Everyone</td>\n",
       "      <td>https://www.vietnamairlines.com/vn/en/terms-an...</td>\n",
       "      <td>False</td>\n",
       "      <td>False</td>\n",
       "      <td>False</td>\n",
       "      <td>2021-06-15 20:19:35</td>\n",
       "    </tr>\n",
       "    <tr>\n",
       "      <th>3</th>\n",
       "      <td>Smart City Trichy Public Service Vehicles 17UC...</td>\n",
       "      <td>cst.stJoseph.ug17ucs548</td>\n",
       "      <td>Communication</td>\n",
       "      <td>5.0</td>\n",
       "      <td>5.0</td>\n",
       "      <td>10+</td>\n",
       "      <td>10.0</td>\n",
       "      <td>19</td>\n",
       "      <td>True</td>\n",
       "      <td>0.0</td>\n",
       "      <td>...</td>\n",
       "      <td>http://www.climatesmarttech.com/</td>\n",
       "      <td>climatesmarttech2@gmail.com</td>\n",
       "      <td>Sep 10, 2018</td>\n",
       "      <td>Oct 13, 2018</td>\n",
       "      <td>Everyone</td>\n",
       "      <td>NaN</td>\n",
       "      <td>True</td>\n",
       "      <td>False</td>\n",
       "      <td>False</td>\n",
       "      <td>2021-06-15 20:19:35</td>\n",
       "    </tr>\n",
       "    <tr>\n",
       "      <th>4</th>\n",
       "      <td>GROW.me</td>\n",
       "      <td>com.horodyski.grower</td>\n",
       "      <td>Tools</td>\n",
       "      <td>0.0</td>\n",
       "      <td>0.0</td>\n",
       "      <td>100+</td>\n",
       "      <td>100.0</td>\n",
       "      <td>478</td>\n",
       "      <td>True</td>\n",
       "      <td>0.0</td>\n",
       "      <td>...</td>\n",
       "      <td>http://www.horodyski.com.pl</td>\n",
       "      <td>rmilekhorodyski@gmail.com</td>\n",
       "      <td>Feb 21, 2020</td>\n",
       "      <td>Nov 12, 2018</td>\n",
       "      <td>Everyone</td>\n",
       "      <td>http://www.horodyski.com.pl</td>\n",
       "      <td>False</td>\n",
       "      <td>False</td>\n",
       "      <td>False</td>\n",
       "      <td>2021-06-15 20:19:35</td>\n",
       "    </tr>\n",
       "  </tbody>\n",
       "</table>\n",
       "<p>5 rows × 24 columns</p>\n",
       "</div>"
      ],
      "text/plain": [
       "                                            App Name  \\\n",
       "0                                            Gakondo   \n",
       "1                                Ampere Battery Info   \n",
       "2                                             Vibook   \n",
       "3  Smart City Trichy Public Service Vehicles 17UC...   \n",
       "4                                            GROW.me   \n",
       "\n",
       "                       App Id       Category  Rating  Rating Count Installs  \\\n",
       "0         com.ishakwe.gakondo      Adventure     0.0           0.0      10+   \n",
       "1  com.webserveis.batteryinfo          Tools     4.4          64.0   5,000+   \n",
       "2        com.doantiepvien.crm   Productivity     0.0           0.0      50+   \n",
       "3     cst.stJoseph.ug17ucs548  Communication     5.0           5.0      10+   \n",
       "4        com.horodyski.grower          Tools     0.0           0.0     100+   \n",
       "\n",
       "   Minimum Installs  Maximum Installs  Free  Price  ...  \\\n",
       "0              10.0                15  True    0.0  ...   \n",
       "1            5000.0              7662  True    0.0  ...   \n",
       "2              50.0                58  True    0.0  ...   \n",
       "3              10.0                19  True    0.0  ...   \n",
       "4             100.0               478  True    0.0  ...   \n",
       "\n",
       "                  Developer Website              Developer Email  \\\n",
       "0       https://beniyizibyose.tk/#/       jean21101999@gmail.com   \n",
       "1   https://webserveis.netlify.app/         webserveis@gmail.com   \n",
       "2                               NaN          vnacrewit@gmail.com   \n",
       "3  http://www.climatesmarttech.com/  climatesmarttech2@gmail.com   \n",
       "4       http://www.horodyski.com.pl    rmilekhorodyski@gmail.com   \n",
       "\n",
       "       Released  Last Updated Content Rating  \\\n",
       "0  Feb 26, 2020  Feb 26, 2020       Everyone   \n",
       "1  May 21, 2020  May 06, 2021       Everyone   \n",
       "2   Aug 9, 2019  Aug 19, 2019       Everyone   \n",
       "3  Sep 10, 2018  Oct 13, 2018       Everyone   \n",
       "4  Feb 21, 2020  Nov 12, 2018       Everyone   \n",
       "\n",
       "                                      Privacy Policy Ad Supported  \\\n",
       "0                 https://beniyizibyose.tk/projects/        False   \n",
       "1  https://dev4phones.wordpress.com/licencia-de-uso/         True   \n",
       "2  https://www.vietnamairlines.com/vn/en/terms-an...        False   \n",
       "3                                                NaN         True   \n",
       "4                        http://www.horodyski.com.pl        False   \n",
       "\n",
       "  In App Purchases Editors Choice         Scraped Time  \n",
       "0            False          False  2021-06-15 20:19:35  \n",
       "1            False          False  2021-06-15 20:19:35  \n",
       "2            False          False  2021-06-15 20:19:35  \n",
       "3            False          False  2021-06-15 20:19:35  \n",
       "4            False          False  2021-06-15 20:19:35  \n",
       "\n",
       "[5 rows x 24 columns]"
      ]
     },
     "execution_count": 4,
     "metadata": {},
     "output_type": "execute_result"
    }
   ],
   "source": [
    "#let's explore playstore dataset\n",
    "playstore_data.head()"
   ]
  },
  {
   "cell_type": "code",
   "execution_count": 5,
   "id": "8f34ae46-c886-4a78-8da2-6ae130413ec2",
   "metadata": {},
   "outputs": [
    {
     "data": {
      "text/plain": [
       "0"
      ]
     },
     "execution_count": 5,
     "metadata": {},
     "output_type": "execute_result"
    }
   ],
   "source": [
    "#checking for duplicate values\n",
    "playstore_data.duplicated().sum()"
   ]
  },
  {
   "cell_type": "code",
   "execution_count": 6,
   "id": "a92eb6d7-4832-4228-97bc-32343944a8a4",
   "metadata": {},
   "outputs": [
    {
     "data": {
      "text/plain": [
       "2312944"
      ]
     },
     "execution_count": 6,
     "metadata": {},
     "output_type": "execute_result"
    }
   ],
   "source": [
    "#checking number of unique values \n",
    "playstore_data['App Id'].nunique()"
   ]
  },
  {
   "cell_type": "code",
   "execution_count": 7,
   "id": "e35e0571-3b69-49a3-acde-ff94a15dec25",
   "metadata": {},
   "outputs": [
    {
     "data": {
      "text/html": [
       "<div>\n",
       "<style scoped>\n",
       "    .dataframe tbody tr th:only-of-type {\n",
       "        vertical-align: middle;\n",
       "    }\n",
       "\n",
       "    .dataframe tbody tr th {\n",
       "        vertical-align: top;\n",
       "    }\n",
       "\n",
       "    .dataframe thead th {\n",
       "        text-align: right;\n",
       "    }\n",
       "</style>\n",
       "<table border=\"1\" class=\"dataframe\">\n",
       "  <thead>\n",
       "    <tr style=\"text-align: right;\">\n",
       "      <th></th>\n",
       "      <th>Rating</th>\n",
       "      <th>Rating Count</th>\n",
       "      <th>Minimum Installs</th>\n",
       "      <th>Maximum Installs</th>\n",
       "      <th>Price</th>\n",
       "    </tr>\n",
       "  </thead>\n",
       "  <tbody>\n",
       "    <tr>\n",
       "      <th>count</th>\n",
       "      <td>2.290061e+06</td>\n",
       "      <td>2.290061e+06</td>\n",
       "      <td>2.312837e+06</td>\n",
       "      <td>2.312944e+06</td>\n",
       "      <td>2.312944e+06</td>\n",
       "    </tr>\n",
       "    <tr>\n",
       "      <th>mean</th>\n",
       "      <td>2.203152e+00</td>\n",
       "      <td>2.864839e+03</td>\n",
       "      <td>1.834452e+05</td>\n",
       "      <td>3.202017e+05</td>\n",
       "      <td>1.034992e-01</td>\n",
       "    </tr>\n",
       "    <tr>\n",
       "      <th>std</th>\n",
       "      <td>2.106223e+00</td>\n",
       "      <td>2.121626e+05</td>\n",
       "      <td>1.513144e+07</td>\n",
       "      <td>2.355495e+07</td>\n",
       "      <td>2.633127e+00</td>\n",
       "    </tr>\n",
       "    <tr>\n",
       "      <th>min</th>\n",
       "      <td>0.000000e+00</td>\n",
       "      <td>0.000000e+00</td>\n",
       "      <td>0.000000e+00</td>\n",
       "      <td>0.000000e+00</td>\n",
       "      <td>0.000000e+00</td>\n",
       "    </tr>\n",
       "    <tr>\n",
       "      <th>25%</th>\n",
       "      <td>0.000000e+00</td>\n",
       "      <td>0.000000e+00</td>\n",
       "      <td>5.000000e+01</td>\n",
       "      <td>8.400000e+01</td>\n",
       "      <td>0.000000e+00</td>\n",
       "    </tr>\n",
       "    <tr>\n",
       "      <th>50%</th>\n",
       "      <td>2.900000e+00</td>\n",
       "      <td>6.000000e+00</td>\n",
       "      <td>5.000000e+02</td>\n",
       "      <td>6.950000e+02</td>\n",
       "      <td>0.000000e+00</td>\n",
       "    </tr>\n",
       "    <tr>\n",
       "      <th>75%</th>\n",
       "      <td>4.300000e+00</td>\n",
       "      <td>4.200000e+01</td>\n",
       "      <td>5.000000e+03</td>\n",
       "      <td>7.354000e+03</td>\n",
       "      <td>0.000000e+00</td>\n",
       "    </tr>\n",
       "    <tr>\n",
       "      <th>max</th>\n",
       "      <td>5.000000e+00</td>\n",
       "      <td>1.385576e+08</td>\n",
       "      <td>1.000000e+10</td>\n",
       "      <td>1.205763e+10</td>\n",
       "      <td>4.000000e+02</td>\n",
       "    </tr>\n",
       "  </tbody>\n",
       "</table>\n",
       "</div>"
      ],
      "text/plain": [
       "             Rating  Rating Count  Minimum Installs  Maximum Installs  \\\n",
       "count  2.290061e+06  2.290061e+06      2.312837e+06      2.312944e+06   \n",
       "mean   2.203152e+00  2.864839e+03      1.834452e+05      3.202017e+05   \n",
       "std    2.106223e+00  2.121626e+05      1.513144e+07      2.355495e+07   \n",
       "min    0.000000e+00  0.000000e+00      0.000000e+00      0.000000e+00   \n",
       "25%    0.000000e+00  0.000000e+00      5.000000e+01      8.400000e+01   \n",
       "50%    2.900000e+00  6.000000e+00      5.000000e+02      6.950000e+02   \n",
       "75%    4.300000e+00  4.200000e+01      5.000000e+03      7.354000e+03   \n",
       "max    5.000000e+00  1.385576e+08      1.000000e+10      1.205763e+10   \n",
       "\n",
       "              Price  \n",
       "count  2.312944e+06  \n",
       "mean   1.034992e-01  \n",
       "std    2.633127e+00  \n",
       "min    0.000000e+00  \n",
       "25%    0.000000e+00  \n",
       "50%    0.000000e+00  \n",
       "75%    0.000000e+00  \n",
       "max    4.000000e+02  "
      ]
     },
     "execution_count": 7,
     "metadata": {},
     "output_type": "execute_result"
    }
   ],
   "source": [
    "playstore_data.describe()"
   ]
  },
  {
   "cell_type": "code",
   "execution_count": 8,
   "id": "bf2fdc4a-b165-4b84-ac4f-6be25f441c1c",
   "metadata": {},
   "outputs": [
    {
     "data": {
      "text/plain": [
       "Index(['App Name', 'App Id', 'Category', 'Rating', 'Rating Count', 'Installs',\n",
       "       'Minimum Installs', 'Maximum Installs', 'Free', 'Price', 'Currency',\n",
       "       'Size', 'Minimum Android', 'Developer Id', 'Developer Website',\n",
       "       'Developer Email', 'Released', 'Last Updated', 'Content Rating',\n",
       "       'Privacy Policy', 'Ad Supported', 'In App Purchases', 'Editors Choice',\n",
       "       'Scraped Time'],\n",
       "      dtype='object')"
      ]
     },
     "execution_count": 8,
     "metadata": {},
     "output_type": "execute_result"
    }
   ],
   "source": [
    "#column names in the dataset\n",
    "playstore_data.columns"
   ]
  },
  {
   "cell_type": "code",
   "execution_count": 9,
   "id": "f3515969-791e-4c83-ab75-5bb29b64a5d5",
   "metadata": {},
   "outputs": [],
   "source": [
    "#dropping unwanted columns\n",
    "playstore_data = playstore_data.drop(['App Id','Developer Website','Developer Email','Privacy Policy','Currency','Developer Id','Scraped Time','Minimum Android'],axis=1)\n",
    "\n"
   ]
  },
  {
   "cell_type": "code",
   "execution_count": 10,
   "id": "9354755f-06d2-4b46-9a75-8ab121a2355a",
   "metadata": {},
   "outputs": [
    {
     "name": "stdout",
     "output_type": "stream",
     "text": [
      "<class 'pandas.core.frame.DataFrame'>\n",
      "RangeIndex: 2312944 entries, 0 to 2312943\n",
      "Data columns (total 16 columns):\n",
      " #   Column            Dtype  \n",
      "---  ------            -----  \n",
      " 0   App Name          object \n",
      " 1   Category          object \n",
      " 2   Rating            float64\n",
      " 3   Rating Count      float64\n",
      " 4   Installs          object \n",
      " 5   Minimum Installs  float64\n",
      " 6   Maximum Installs  int64  \n",
      " 7   Free              bool   \n",
      " 8   Price             float64\n",
      " 9   Size              object \n",
      " 10  Released          object \n",
      " 11  Last Updated      object \n",
      " 12  Content Rating    object \n",
      " 13  Ad Supported      bool   \n",
      " 14  In App Purchases  bool   \n",
      " 15  Editors Choice    bool   \n",
      "dtypes: bool(4), float64(4), int64(1), object(7)\n",
      "memory usage: 220.6+ MB\n"
     ]
    }
   ],
   "source": [
    "playstore_data.info()"
   ]
  },
  {
   "cell_type": "code",
   "execution_count": 11,
   "id": "20fd16c1-cb93-4633-a26e-33e6bb5b6ffe",
   "metadata": {},
   "outputs": [
    {
     "data": {
      "text/plain": [
       "App Name                5\n",
       "Category                0\n",
       "Rating              22883\n",
       "Rating Count        22883\n",
       "Installs              107\n",
       "Minimum Installs      107\n",
       "Maximum Installs        0\n",
       "Free                    0\n",
       "Price                   0\n",
       "Size                  196\n",
       "Released            71053\n",
       "Last Updated            0\n",
       "Content Rating          0\n",
       "Ad Supported            0\n",
       "In App Purchases        0\n",
       "Editors Choice          0\n",
       "dtype: int64"
      ]
     },
     "execution_count": 11,
     "metadata": {},
     "output_type": "execute_result"
    }
   ],
   "source": [
    "#checking null values\n",
    "playstore_data.isna().sum()"
   ]
  },
  {
   "cell_type": "code",
   "execution_count": 12,
   "id": "e53d621f-5445-4ab1-ba81-f7ca67b5e6be",
   "metadata": {},
   "outputs": [
    {
     "data": {
      "text/plain": [
       "Released            3.071972\n",
       "Rating              0.989345\n",
       "Rating Count        0.989345\n",
       "Size                0.008474\n",
       "Installs            0.004626\n",
       "Minimum Installs    0.004626\n",
       "App Name            0.000216\n",
       "Category            0.000000\n",
       "Maximum Installs    0.000000\n",
       "Free                0.000000\n",
       "Price               0.000000\n",
       "Last Updated        0.000000\n",
       "Content Rating      0.000000\n",
       "Ad Supported        0.000000\n",
       "In App Purchases    0.000000\n",
       "Editors Choice      0.000000\n",
       "dtype: float64"
      ]
     },
     "execution_count": 12,
     "metadata": {},
     "output_type": "execute_result"
    }
   ],
   "source": [
    "#calculating percentage of null values in each column\n",
    "missing_percentage = playstore_data.isnull().sum().sort_values(ascending = False)/len(playstore_data) *100\n",
    "missing_percentage"
   ]
  },
  {
   "cell_type": "code",
   "execution_count": 13,
   "id": "1e070f7d-c880-4919-8cf2-89da5e38b951",
   "metadata": {},
   "outputs": [
    {
     "data": {
      "text/plain": [
       "Text(0.5, 1.0, 'Missig percentage of null values')"
      ]
     },
     "execution_count": 13,
     "metadata": {},
     "output_type": "execute_result"
    },
    {
     "data": {
      "image/png": "[encoded data removed]",
      "text/plain": [
       "<Figure size 500x400 with 1 Axes>"
      ]
     },
     "metadata": {},
     "output_type": "display_data"
    }
   ],
   "source": [
    "#Let's plot the missing percentage of null values\n",
    "missing_percentage = missing_percentage[missing_percentage != 0] # Only the missing data\n",
    "plt.figure(figsize=(5,4))\n",
    "missing_percentage.plot(kind='barh')\n",
    "plt.title(\"Missig percentage of null values\")"
   ]
  },
  {
   "cell_type": "code",
   "execution_count": 14,
   "id": "6b2f6a25-c00f-44d9-be09-8f940fca2c1a",
   "metadata": {},
   "outputs": [],
   "source": [
    "#droping the null values of the selected columns \n",
    "playstore_data.dropna(subset = ['App Name','Minimum Installs','Installs','Size',], inplace = True)"
   ]
  },
  {
   "cell_type": "markdown",
   "id": "6d72101f-d447-47ea-b325-ef0dc074d24e",
   "metadata": {},
   "source": [
    "Let's check each column and clean. Rating Count, Rating, Released are important column so it is good to fill the null values."
   ]
  },
  {
   "cell_type": "markdown",
   "id": "ddbf162e-2fa5-40c4-9d7c-78ed45ef24c2",
   "metadata": {},
   "source": [
    "### Clean Rating and Rating Count columns"
   ]
  },
  {
   "cell_type": "code",
   "execution_count": 15,
   "id": "8b3fd141-25eb-4702-871b-7640dd3a5615",
   "metadata": {},
   "outputs": [
    {
     "data": {
      "text/plain": [
       "array([0. , 4.4, 5. , 4.5, 2. , 4.7, 4.9, 3.9, 3.7, 4.2, 3.4, 3.8, 4.6,\n",
       "       4.1, 2.5, 2.3, 2.1, 2.7, 4.3, 3.1, 4.8, 3.3, 4. , 2.4, 3.2, 3.6,\n",
       "       2.6, nan, 1.5, 3.5, 2.9, 1.3, 2.8, 3. , 2.2, 1.8, 1.4, 1.2, 1.9,\n",
       "       1.7, 1.6, 1. , 1.1])"
      ]
     },
     "execution_count": 15,
     "metadata": {},
     "output_type": "execute_result"
    }
   ],
   "source": [
    "#checking Rating column unique values\n",
    "playstore_data['Rating'].unique()"
   ]
  },
  {
   "cell_type": "code",
   "execution_count": 16,
   "id": "2fa23f08-0c5c-45d2-9383-ed6cbb9346aa",
   "metadata": {},
   "outputs": [],
   "source": [
    "#fill nan val by avg \n",
    "playstore_data['Rating'] = playstore_data['Rating'].astype(float)\n",
    "avg = round(playstore_data['Rating'].mean(),1)\n",
    "playstore_data['Rating'].fillna(avg,inplace=True) "
   ]
  },
  {
   "cell_type": "code",
   "execution_count": 17,
   "id": "61770bc6-3814-4c69-ba36-adb3a3f889ad",
   "metadata": {},
   "outputs": [
    {
     "data": {
      "text/plain": [
       "array([0.0000e+00, 6.4000e+01, 5.0000e+00, ..., 8.7553e+04, 7.5960e+04,\n",
       "       7.8351e+04])"
      ]
     },
     "execution_count": 17,
     "metadata": {},
     "output_type": "execute_result"
    }
   ],
   "source": [
    "#checking Rating Count column unique values\n",
    "playstore_data['Rating Count'].unique()"
   ]
  },
  {
   "cell_type": "code",
   "execution_count": 18,
   "id": "b5d51d49-0843-494a-b051-d290be8fddb7",
   "metadata": {},
   "outputs": [],
   "source": [
    "# fill nan val by avg \n",
    "playstore_data['Rating Count'] = playstore_data['Rating'].astype(float)\n",
    "avg = round(playstore_data['Rating Count'].mean(),1)\n",
    "playstore_data['Rating Count'].fillna(avg,inplace=True) "
   ]
  },
  {
   "cell_type": "code",
   "execution_count": 19,
   "id": "45bb5217-a641-4d55-8b66-2e7828b053cb",
   "metadata": {},
   "outputs": [],
   "source": [
    "# Drop rows where Released date is null\n",
    "playstore_data.dropna(subset=['Released'], inplace=True)"
   ]
  },
  {
   "cell_type": "code",
   "execution_count": 20,
   "id": "3a93b85f-adac-4f55-8c8a-ffc67b63fa7a",
   "metadata": {},
   "outputs": [
    {
     "data": {
      "text/plain": [
       "App Name            0\n",
       "Category            0\n",
       "Rating              0\n",
       "Rating Count        0\n",
       "Installs            0\n",
       "Minimum Installs    0\n",
       "Maximum Installs    0\n",
       "Free                0\n",
       "Price               0\n",
       "Size                0\n",
       "Released            0\n",
       "Last Updated        0\n",
       "Content Rating      0\n",
       "Ad Supported        0\n",
       "In App Purchases    0\n",
       "Editors Choice      0\n",
       "dtype: int64"
      ]
     },
     "execution_count": 20,
     "metadata": {},
     "output_type": "execute_result"
    }
   ],
   "source": [
    "#checking dataset for more null values after \n",
    "playstore_data.isna().sum()"
   ]
  },
  {
   "cell_type": "code",
   "execution_count": 21,
   "id": "977ef15d-8d1d-4bab-86e9-9640da427d28",
   "metadata": {},
   "outputs": [
    {
     "data": {
      "text/html": [
       "<div>\n",
       "<style scoped>\n",
       "    .dataframe tbody tr th:only-of-type {\n",
       "        vertical-align: middle;\n",
       "    }\n",
       "\n",
       "    .dataframe tbody tr th {\n",
       "        vertical-align: top;\n",
       "    }\n",
       "\n",
       "    .dataframe thead th {\n",
       "        text-align: right;\n",
       "    }\n",
       "</style>\n",
       "<table border=\"1\" class=\"dataframe\">\n",
       "  <thead>\n",
       "    <tr style=\"text-align: right;\">\n",
       "      <th></th>\n",
       "      <th>App Name</th>\n",
       "      <th>Category</th>\n",
       "      <th>Rating</th>\n",
       "      <th>Rating Count</th>\n",
       "      <th>Installs</th>\n",
       "      <th>Minimum Installs</th>\n",
       "      <th>Maximum Installs</th>\n",
       "      <th>Free</th>\n",
       "      <th>Price</th>\n",
       "      <th>Size</th>\n",
       "      <th>Released</th>\n",
       "      <th>Last Updated</th>\n",
       "      <th>Content Rating</th>\n",
       "      <th>Ad Supported</th>\n",
       "      <th>In App Purchases</th>\n",
       "      <th>Editors Choice</th>\n",
       "    </tr>\n",
       "  </thead>\n",
       "  <tbody>\n",
       "    <tr>\n",
       "      <th>0</th>\n",
       "      <td>Gakondo</td>\n",
       "      <td>Adventure</td>\n",
       "      <td>0.0</td>\n",
       "      <td>0.0</td>\n",
       "      <td>10+</td>\n",
       "      <td>10.0</td>\n",
       "      <td>15</td>\n",
       "      <td>True</td>\n",
       "      <td>0.0</td>\n",
       "      <td>10M</td>\n",
       "      <td>Feb 26, 2020</td>\n",
       "      <td>Feb 26, 2020</td>\n",
       "      <td>Everyone</td>\n",
       "      <td>False</td>\n",
       "      <td>False</td>\n",
       "      <td>False</td>\n",
       "    </tr>\n",
       "    <tr>\n",
       "      <th>1</th>\n",
       "      <td>Ampere Battery Info</td>\n",
       "      <td>Tools</td>\n",
       "      <td>4.4</td>\n",
       "      <td>4.4</td>\n",
       "      <td>5,000+</td>\n",
       "      <td>5000.0</td>\n",
       "      <td>7662</td>\n",
       "      <td>True</td>\n",
       "      <td>0.0</td>\n",
       "      <td>2.9M</td>\n",
       "      <td>May 21, 2020</td>\n",
       "      <td>May 06, 2021</td>\n",
       "      <td>Everyone</td>\n",
       "      <td>True</td>\n",
       "      <td>False</td>\n",
       "      <td>False</td>\n",
       "    </tr>\n",
       "    <tr>\n",
       "      <th>2</th>\n",
       "      <td>Vibook</td>\n",
       "      <td>Productivity</td>\n",
       "      <td>0.0</td>\n",
       "      <td>0.0</td>\n",
       "      <td>50+</td>\n",
       "      <td>50.0</td>\n",
       "      <td>58</td>\n",
       "      <td>True</td>\n",
       "      <td>0.0</td>\n",
       "      <td>3.7M</td>\n",
       "      <td>Aug 9, 2019</td>\n",
       "      <td>Aug 19, 2019</td>\n",
       "      <td>Everyone</td>\n",
       "      <td>False</td>\n",
       "      <td>False</td>\n",
       "      <td>False</td>\n",
       "    </tr>\n",
       "    <tr>\n",
       "      <th>3</th>\n",
       "      <td>Smart City Trichy Public Service Vehicles 17UC...</td>\n",
       "      <td>Communication</td>\n",
       "      <td>5.0</td>\n",
       "      <td>5.0</td>\n",
       "      <td>10+</td>\n",
       "      <td>10.0</td>\n",
       "      <td>19</td>\n",
       "      <td>True</td>\n",
       "      <td>0.0</td>\n",
       "      <td>1.8M</td>\n",
       "      <td>Sep 10, 2018</td>\n",
       "      <td>Oct 13, 2018</td>\n",
       "      <td>Everyone</td>\n",
       "      <td>True</td>\n",
       "      <td>False</td>\n",
       "      <td>False</td>\n",
       "    </tr>\n",
       "    <tr>\n",
       "      <th>4</th>\n",
       "      <td>GROW.me</td>\n",
       "      <td>Tools</td>\n",
       "      <td>0.0</td>\n",
       "      <td>0.0</td>\n",
       "      <td>100+</td>\n",
       "      <td>100.0</td>\n",
       "      <td>478</td>\n",
       "      <td>True</td>\n",
       "      <td>0.0</td>\n",
       "      <td>6.2M</td>\n",
       "      <td>Feb 21, 2020</td>\n",
       "      <td>Nov 12, 2018</td>\n",
       "      <td>Everyone</td>\n",
       "      <td>False</td>\n",
       "      <td>False</td>\n",
       "      <td>False</td>\n",
       "    </tr>\n",
       "  </tbody>\n",
       "</table>\n",
       "</div>"
      ],
      "text/plain": [
       "                                            App Name       Category  Rating  \\\n",
       "0                                            Gakondo      Adventure     0.0   \n",
       "1                                Ampere Battery Info          Tools     4.4   \n",
       "2                                             Vibook   Productivity     0.0   \n",
       "3  Smart City Trichy Public Service Vehicles 17UC...  Communication     5.0   \n",
       "4                                            GROW.me          Tools     0.0   \n",
       "\n",
       "   Rating Count Installs  Minimum Installs  Maximum Installs  Free  Price  \\\n",
       "0           0.0      10+              10.0                15  True    0.0   \n",
       "1           4.4   5,000+            5000.0              7662  True    0.0   \n",
       "2           0.0      50+              50.0                58  True    0.0   \n",
       "3           5.0      10+              10.0                19  True    0.0   \n",
       "4           0.0     100+             100.0               478  True    0.0   \n",
       "\n",
       "   Size      Released  Last Updated Content Rating  Ad Supported  \\\n",
       "0   10M  Feb 26, 2020  Feb 26, 2020       Everyone         False   \n",
       "1  2.9M  May 21, 2020  May 06, 2021       Everyone          True   \n",
       "2  3.7M   Aug 9, 2019  Aug 19, 2019       Everyone         False   \n",
       "3  1.8M  Sep 10, 2018  Oct 13, 2018       Everyone          True   \n",
       "4  6.2M  Feb 21, 2020  Nov 12, 2018       Everyone         False   \n",
       "\n",
       "   In App Purchases  Editors Choice  \n",
       "0             False           False  \n",
       "1             False           False  \n",
       "2             False           False  \n",
       "3             False           False  \n",
       "4             False           False  "
      ]
     },
     "execution_count": 21,
     "metadata": {},
     "output_type": "execute_result"
    }
   ],
   "source": [
    "playstore_data.head()"
   ]
  },
  {
   "cell_type": "markdown",
   "id": "d52c2ea3-ca95-4639-942a-903026c2c89f",
   "metadata": {},
   "source": [
    "### Clean installs"
   ]
  },
  {
   "cell_type": "code",
   "execution_count": 22,
   "id": "8de4f1e4-af60-4dbc-bb48-8e50c55f1ffb",
   "metadata": {},
   "outputs": [
    {
     "data": {
      "text/plain": [
       "array(['10+', '5,000+', '50+', '100+', '1,000+', '500+', '50,000+',\n",
       "       '10,000+', '1+', '500,000+', '100,000+', '5+', '10,000,000+',\n",
       "       '1,000,000+', '5,000,000+', '0+', '100,000,000+', '50,000,000+',\n",
       "       '1,000,000,000+', '500,000,000+', '5,000,000,000+',\n",
       "       '10,000,000,000+'], dtype=object)"
      ]
     },
     "execution_count": 22,
     "metadata": {},
     "output_type": "execute_result"
    }
   ],
   "source": [
    "playstore_data['Installs'].unique()"
   ]
  },
  {
   "cell_type": "code",
   "execution_count": 23,
   "id": "fc5de18a-51a2-4c8a-972f-2ec3325733aa",
   "metadata": {},
   "outputs": [],
   "source": [
    "#reomove the + symbol\n",
    "#replace the commas ',' Free in the install column\n",
    "#It is in the object type, we need to change it into the int type"
   ]
  },
  {
   "cell_type": "code",
   "execution_count": 24,
   "id": "88cd694d-d01e-4aec-b229-d418142c9829",
   "metadata": {},
   "outputs": [],
   "source": [
    "playstore_data = playstore_data[playstore_data.Installs.str.contains('\\+')]\n",
    "playstore_data.Installs = playstore_data.Installs.str.replace('+','')\n",
    "playstore_data.Installs = playstore_data.Installs.str.replace(',','')\n",
    "playstore_data.Installs = playstore_data.Installs.str.replace('Free','0') # covert the free type to num (0)\n",
    "playstore_data['Installs'] = pd.to_numeric(playstore_data['Installs'])  # converting it to the int type"
   ]
  },
  {
   "cell_type": "code",
   "execution_count": 25,
   "id": "ff13fe9a-8fa8-4e97-a6af-03a532c030c7",
   "metadata": {},
   "outputs": [
    {
     "data": {
      "text/plain": [
       "dtype('int64')"
      ]
     },
     "execution_count": 25,
     "metadata": {},
     "output_type": "execute_result"
    }
   ],
   "source": [
    "playstore_data.dtypes['Installs']"
   ]
  },
  {
   "cell_type": "markdown",
   "id": "f0302380-20d0-4f01-a76a-7e905670b396",
   "metadata": {},
   "source": [
    "### Cleaning Size column"
   ]
  },
  {
   "cell_type": "code",
   "execution_count": 26,
   "id": "5bc3076d-005b-4862-8098-e22ccd818867",
   "metadata": {},
   "outputs": [
    {
     "data": {
      "text/plain": [
       "array(['10M', '2.9M', '3.7M', ..., '405M', '3.2k', '512M'], dtype=object)"
      ]
     },
     "execution_count": 26,
     "metadata": {},
     "output_type": "execute_result"
    }
   ],
   "source": [
    "playstore_data['Size'].unique()"
   ]
  },
  {
   "cell_type": "code",
   "execution_count": 27,
   "id": "7ebfb703-e217-413a-bf3b-a49770906d55",
   "metadata": {},
   "outputs": [
    {
     "name": "stdout",
     "output_type": "stream",
     "text": [
      "Size\n",
      "11M                   60913\n",
      "12M                   54932\n",
      "Varies with device    51247\n",
      "13M                   47018\n",
      "14M                   44305\n",
      "                      ...  \n",
      "7.6k                      1\n",
      "868M                      1\n",
      "578M                      1\n",
      "351M                      1\n",
      "512M                      1\n",
      "Name: count, Length: 1650, dtype: int64\n"
     ]
    }
   ],
   "source": [
    "#checking the count of each value\n",
    "value_counts = playstore_data['Size'].value_counts()\n",
    "print(value_counts)"
   ]
  },
  {
   "cell_type": "code",
   "execution_count": 28,
   "id": "ac5c776f-8b0d-4622-8ac7-29121a4df7ec",
   "metadata": {},
   "outputs": [],
   "source": [
    "# The Size of data can be in GB, MB and KB let's convert the data into the size in MB\n",
    "#Also convert the data type of size from object to float"
   ]
  },
  {
   "cell_type": "code",
   "execution_count": 29,
   "id": "6778d0bc-1093-4c87-b84c-d0c3de736497",
   "metadata": {},
   "outputs": [],
   "source": [
    "playstore_data['Size'] = playstore_data['Size'].apply(lambda x: str(x).replace('M', '') if 'M' in str(x) else x)\n",
    "\n",
    "# repalce the ',' with the dot '.'\n",
    "playstore_data['Size'] = playstore_data['Size'].apply(lambda x: str(x).replace(',', '.') if ',' in str(x) else x)\n",
    "\n",
    "# conversion of kbs to mb\n",
    "playstore_data['Size'] = playstore_data['Size'].apply(lambda x: float(str(x).replace('k', '')) / 1000 if 'k' in str(x) else x)\n",
    "\n",
    "#conversion of gbs to mb\n",
    "playstore_data['Size'] = playstore_data['Size'].apply(lambda x: float(str(x).replace('G', '')) * 1000 if 'G' in str(x) else x)\n",
    "\n",
    "# we get an another missmatch value in the data set which is 'Varies with device' it means the size of the App may varies with the device, but here we can assuming it as 0\n",
    "playstore_data['Size'] = playstore_data['Size'].apply(lambda x: str(x).replace('Varies with device', '0') if 'Varies with device' in str(x) else x)\n"
   ]
  },
  {
   "cell_type": "code",
   "execution_count": 30,
   "id": "579d9b6e-d807-4c46-8589-b7cc97ae5b47",
   "metadata": {},
   "outputs": [
    {
     "data": {
      "text/plain": [
       "array(['10', '2.9', '3.7', ..., '405', 0.0032, '512'], dtype=object)"
      ]
     },
     "execution_count": 30,
     "metadata": {},
     "output_type": "execute_result"
    }
   ],
   "source": [
    "playstore_data['Size'].unique()"
   ]
  },
  {
   "cell_type": "code",
   "execution_count": 31,
   "id": "4d90cc3a-65f1-492e-a4b8-41c7d4f79848",
   "metadata": {},
   "outputs": [
    {
     "name": "stdout",
     "output_type": "stream",
     "text": [
      "Size\n",
      "11                      60913\n",
      "12                      54932\n",
      "0                       51247\n",
      "13                      47018\n",
      "14                      44305\n",
      "                        ...  \n",
      "765                         1\n",
      "0.006900000000000001        1\n",
      "497                         1\n",
      "664                         1\n",
      "512                         1\n",
      "Name: count, Length: 1649, dtype: int64\n"
     ]
    }
   ],
   "source": [
    "value_counts = playstore_data['Size'].value_counts()\n",
    "print(value_counts)"
   ]
  },
  {
   "cell_type": "code",
   "execution_count": 32,
   "id": "98ab40a0-a422-458c-8426-df1007983deb",
   "metadata": {},
   "outputs": [
    {
     "data": {
      "text/plain": [
       "dtype('float64')"
      ]
     },
     "execution_count": 32,
     "metadata": {},
     "output_type": "execute_result"
    }
   ],
   "source": [
    "#convert to float dtype\n",
    "playstore_data['Size'] = playstore_data['Size'].apply(lambda x: float(x))\n",
    "playstore_data.dtypes['Size']"
   ]
  },
  {
   "cell_type": "code",
   "execution_count": 33,
   "id": "607b7f25-1556-4b96-a14b-c6777cfba6e4",
   "metadata": {},
   "outputs": [
    {
     "name": "stdout",
     "output_type": "stream",
     "text": [
      "<class 'pandas.core.frame.DataFrame'>\n",
      "Index: 2241879 entries, 0 to 2312943\n",
      "Data columns (total 16 columns):\n",
      " #   Column            Dtype  \n",
      "---  ------            -----  \n",
      " 0   App Name          object \n",
      " 1   Category          object \n",
      " 2   Rating            float64\n",
      " 3   Rating Count      float64\n",
      " 4   Installs          int64  \n",
      " 5   Minimum Installs  float64\n",
      " 6   Maximum Installs  int64  \n",
      " 7   Free              bool   \n",
      " 8   Price             float64\n",
      " 9   Size              float64\n",
      " 10  Released          object \n",
      " 11  Last Updated      object \n",
      " 12  Content Rating    object \n",
      " 13  Ad Supported      bool   \n",
      " 14  In App Purchases  bool   \n",
      " 15  Editors Choice    bool   \n",
      "dtypes: bool(4), float64(5), int64(2), object(5)\n",
      "memory usage: 230.9+ MB\n"
     ]
    }
   ],
   "source": [
    "playstore_data.info()"
   ]
  },
  {
   "cell_type": "markdown",
   "id": "8db1f5ae-c2c3-42fb-9684-721ea568cdab",
   "metadata": {},
   "source": [
    "### Cleaning Rleased & Last updated dates"
   ]
  },
  {
   "cell_type": "code",
   "execution_count": 34,
   "id": "3ecec7b9-64a0-4f3d-975a-91c06ef14bd9",
   "metadata": {},
   "outputs": [
    {
     "data": {
      "text/plain": [
       "App Name                    object\n",
       "Category                    object\n",
       "Rating                     float64\n",
       "Rating Count               float64\n",
       "Installs                     int64\n",
       "Minimum Installs           float64\n",
       "Maximum Installs             int64\n",
       "Free                          bool\n",
       "Price                      float64\n",
       "Size                       float64\n",
       "Released            datetime64[ns]\n",
       "Last Updated        datetime64[ns]\n",
       "Content Rating              object\n",
       "Ad Supported                  bool\n",
       "In App Purchases              bool\n",
       "Editors Choice                bool\n",
       "dtype: object"
      ]
     },
     "execution_count": 34,
     "metadata": {},
     "output_type": "execute_result"
    }
   ],
   "source": [
    "#convert Released and Last updated columns from object dtype to datetime64\n",
    "playstore_data['Released'] = pd.to_datetime(playstore_data['Released'], format='%b %d, %Y')\n",
    "playstore_data['Last Updated'] = pd.to_datetime(playstore_data['Last Updated'], format='%b %d, %Y')\n",
    "playstore_data.dtypes"
   ]
  },
  {
   "cell_type": "markdown",
   "id": "d86440c4-dd83-4206-939a-9a1becde0d6d",
   "metadata": {},
   "source": [
    "### Cleaning column Free"
   ]
  },
  {
   "cell_type": "code",
   "execution_count": 35,
   "id": "33c04a65-cee6-4123-8255-283d5e3eb8e3",
   "metadata": {},
   "outputs": [
    {
     "data": {
      "text/plain": [
       "Free\n",
       "True     2197656\n",
       "False      44223\n",
       "Name: count, dtype: int64"
      ]
     },
     "execution_count": 35,
     "metadata": {},
     "output_type": "execute_result"
    }
   ],
   "source": [
    "playstore_data['Free'].value_counts()"
   ]
  },
  {
   "cell_type": "code",
   "execution_count": 36,
   "id": "3b5f8aa9-8662-4d9a-a631-82c37dbc35b4",
   "metadata": {},
   "outputs": [],
   "source": [
    "# Creating the column Type for free and paid Apps by using the Free column, it's helpfull while dealing with the paid and Free Apps\n",
    "playstore_data['Type'] = np.where(playstore_data['Free'] == True,'Free','Paid')\n",
    "playstore_data.drop(['Free'],axis=1, inplace= True )"
   ]
  },
  {
   "cell_type": "code",
   "execution_count": 37,
   "id": "c13e5c75-9b3a-4d17-961b-e4da10772f8b",
   "metadata": {},
   "outputs": [
    {
     "data": {
      "text/html": [
       "<div>\n",
       "<style scoped>\n",
       "    .dataframe tbody tr th:only-of-type {\n",
       "        vertical-align: middle;\n",
       "    }\n",
       "\n",
       "    .dataframe tbody tr th {\n",
       "        vertical-align: top;\n",
       "    }\n",
       "\n",
       "    .dataframe thead th {\n",
       "        text-align: right;\n",
       "    }\n",
       "</style>\n",
       "<table border=\"1\" class=\"dataframe\">\n",
       "  <thead>\n",
       "    <tr style=\"text-align: right;\">\n",
       "      <th></th>\n",
       "      <th>App Name</th>\n",
       "      <th>Category</th>\n",
       "      <th>Rating</th>\n",
       "      <th>Rating Count</th>\n",
       "      <th>Installs</th>\n",
       "      <th>Minimum Installs</th>\n",
       "      <th>Maximum Installs</th>\n",
       "      <th>Price</th>\n",
       "      <th>Size</th>\n",
       "      <th>Released</th>\n",
       "      <th>Last Updated</th>\n",
       "      <th>Content Rating</th>\n",
       "      <th>Ad Supported</th>\n",
       "      <th>In App Purchases</th>\n",
       "      <th>Editors Choice</th>\n",
       "      <th>Type</th>\n",
       "    </tr>\n",
       "  </thead>\n",
       "  <tbody>\n",
       "    <tr>\n",
       "      <th>0</th>\n",
       "      <td>Gakondo</td>\n",
       "      <td>Adventure</td>\n",
       "      <td>0.0</td>\n",
       "      <td>0.0</td>\n",
       "      <td>10</td>\n",
       "      <td>10.0</td>\n",
       "      <td>15</td>\n",
       "      <td>0.0</td>\n",
       "      <td>10.0</td>\n",
       "      <td>2020-02-26</td>\n",
       "      <td>2020-02-26</td>\n",
       "      <td>Everyone</td>\n",
       "      <td>False</td>\n",
       "      <td>False</td>\n",
       "      <td>False</td>\n",
       "      <td>Free</td>\n",
       "    </tr>\n",
       "    <tr>\n",
       "      <th>1</th>\n",
       "      <td>Ampere Battery Info</td>\n",
       "      <td>Tools</td>\n",
       "      <td>4.4</td>\n",
       "      <td>4.4</td>\n",
       "      <td>5000</td>\n",
       "      <td>5000.0</td>\n",
       "      <td>7662</td>\n",
       "      <td>0.0</td>\n",
       "      <td>2.9</td>\n",
       "      <td>2020-05-21</td>\n",
       "      <td>2021-05-06</td>\n",
       "      <td>Everyone</td>\n",
       "      <td>True</td>\n",
       "      <td>False</td>\n",
       "      <td>False</td>\n",
       "      <td>Free</td>\n",
       "    </tr>\n",
       "    <tr>\n",
       "      <th>2</th>\n",
       "      <td>Vibook</td>\n",
       "      <td>Productivity</td>\n",
       "      <td>0.0</td>\n",
       "      <td>0.0</td>\n",
       "      <td>50</td>\n",
       "      <td>50.0</td>\n",
       "      <td>58</td>\n",
       "      <td>0.0</td>\n",
       "      <td>3.7</td>\n",
       "      <td>2019-08-09</td>\n",
       "      <td>2019-08-19</td>\n",
       "      <td>Everyone</td>\n",
       "      <td>False</td>\n",
       "      <td>False</td>\n",
       "      <td>False</td>\n",
       "      <td>Free</td>\n",
       "    </tr>\n",
       "    <tr>\n",
       "      <th>3</th>\n",
       "      <td>Smart City Trichy Public Service Vehicles 17UC...</td>\n",
       "      <td>Communication</td>\n",
       "      <td>5.0</td>\n",
       "      <td>5.0</td>\n",
       "      <td>10</td>\n",
       "      <td>10.0</td>\n",
       "      <td>19</td>\n",
       "      <td>0.0</td>\n",
       "      <td>1.8</td>\n",
       "      <td>2018-09-10</td>\n",
       "      <td>2018-10-13</td>\n",
       "      <td>Everyone</td>\n",
       "      <td>True</td>\n",
       "      <td>False</td>\n",
       "      <td>False</td>\n",
       "      <td>Free</td>\n",
       "    </tr>\n",
       "    <tr>\n",
       "      <th>4</th>\n",
       "      <td>GROW.me</td>\n",
       "      <td>Tools</td>\n",
       "      <td>0.0</td>\n",
       "      <td>0.0</td>\n",
       "      <td>100</td>\n",
       "      <td>100.0</td>\n",
       "      <td>478</td>\n",
       "      <td>0.0</td>\n",
       "      <td>6.2</td>\n",
       "      <td>2020-02-21</td>\n",
       "      <td>2018-11-12</td>\n",
       "      <td>Everyone</td>\n",
       "      <td>False</td>\n",
       "      <td>False</td>\n",
       "      <td>False</td>\n",
       "      <td>Free</td>\n",
       "    </tr>\n",
       "  </tbody>\n",
       "</table>\n",
       "</div>"
      ],
      "text/plain": [
       "                                            App Name       Category  Rating  \\\n",
       "0                                            Gakondo      Adventure     0.0   \n",
       "1                                Ampere Battery Info          Tools     4.4   \n",
       "2                                             Vibook   Productivity     0.0   \n",
       "3  Smart City Trichy Public Service Vehicles 17UC...  Communication     5.0   \n",
       "4                                            GROW.me          Tools     0.0   \n",
       "\n",
       "   Rating Count  Installs  Minimum Installs  Maximum Installs  Price  Size  \\\n",
       "0           0.0        10              10.0                15    0.0  10.0   \n",
       "1           4.4      5000            5000.0              7662    0.0   2.9   \n",
       "2           0.0        50              50.0                58    0.0   3.7   \n",
       "3           5.0        10              10.0                19    0.0   1.8   \n",
       "4           0.0       100             100.0               478    0.0   6.2   \n",
       "\n",
       "    Released Last Updated Content Rating  Ad Supported  In App Purchases  \\\n",
       "0 2020-02-26   2020-02-26       Everyone         False             False   \n",
       "1 2020-05-21   2021-05-06       Everyone          True             False   \n",
       "2 2019-08-09   2019-08-19       Everyone         False             False   \n",
       "3 2018-09-10   2018-10-13       Everyone          True             False   \n",
       "4 2020-02-21   2018-11-12       Everyone         False             False   \n",
       "\n",
       "   Editors Choice  Type  \n",
       "0           False  Free  \n",
       "1           False  Free  \n",
       "2           False  Free  \n",
       "3           False  Free  \n",
       "4           False  Free  "
      ]
     },
     "execution_count": 37,
     "metadata": {},
     "output_type": "execute_result"
    }
   ],
   "source": [
    "playstore_data.head()"
   ]
  },
  {
   "cell_type": "code",
   "execution_count": 38,
   "id": "775e8fe4-091a-4694-95b6-b60144b1b948",
   "metadata": {},
   "outputs": [
    {
     "data": {
      "text/plain": [
       "array(['Free', 'Paid'], dtype=object)"
      ]
     },
     "execution_count": 38,
     "metadata": {},
     "output_type": "execute_result"
    }
   ],
   "source": [
    "playstore_data['Type'].unique()\n"
   ]
  },
  {
   "cell_type": "code",
   "execution_count": 39,
   "id": "6992e695-37f1-4565-a8eb-dd7a49c0270a",
   "metadata": {},
   "outputs": [
    {
     "name": "stdout",
     "output_type": "stream",
     "text": [
      "<class 'pandas.core.frame.DataFrame'>\n",
      "Index: 2241879 entries, 0 to 2312943\n",
      "Data columns (total 16 columns):\n",
      " #   Column            Dtype         \n",
      "---  ------            -----         \n",
      " 0   App Name          object        \n",
      " 1   Category          object        \n",
      " 2   Rating            float64       \n",
      " 3   Rating Count      float64       \n",
      " 4   Installs          int64         \n",
      " 5   Minimum Installs  float64       \n",
      " 6   Maximum Installs  int64         \n",
      " 7   Price             float64       \n",
      " 8   Size              float64       \n",
      " 9   Released          datetime64[ns]\n",
      " 10  Last Updated      datetime64[ns]\n",
      " 11  Content Rating    object        \n",
      " 12  Ad Supported      bool          \n",
      " 13  In App Purchases  bool          \n",
      " 14  Editors Choice    bool          \n",
      " 15  Type              object        \n",
      "dtypes: bool(3), datetime64[ns](2), float64(5), int64(2), object(4)\n",
      "memory usage: 245.9+ MB\n"
     ]
    }
   ],
   "source": [
    "playstore_data.info()"
   ]
  },
  {
   "cell_type": "markdown",
   "id": "eb3e2282-7770-4276-a8ee-a750cabb5908",
   "metadata": {},
   "source": [
    "### Cleaning Content Rating"
   ]
  },
  {
   "cell_type": "code",
   "execution_count": 40,
   "id": "d3e78996-9537-4ce2-9698-76682b4c1e52",
   "metadata": {},
   "outputs": [
    {
     "data": {
      "text/plain": [
       "array(['Everyone', 'Teen', 'Mature 17+', 'Everyone 10+',\n",
       "       'Adults only 18+', 'Unrated'], dtype=object)"
      ]
     },
     "execution_count": 40,
     "metadata": {},
     "output_type": "execute_result"
    }
   ],
   "source": [
    "playstore_data['Content Rating'].unique()"
   ]
  },
  {
   "cell_type": "code",
   "execution_count": 41,
   "id": "2f79a79c-3428-48f1-b7ff-cd25dca42653",
   "metadata": {},
   "outputs": [
    {
     "data": {
      "text/plain": [
       "Content Rating\n",
       "Everyone           1959917\n",
       "Teen                190173\n",
       "Mature 17+           58677\n",
       "Everyone 10+         32830\n",
       "Unrated                152\n",
       "Adults only 18+        130\n",
       "Name: count, dtype: int64"
      ]
     },
     "execution_count": 41,
     "metadata": {},
     "output_type": "execute_result"
    }
   ],
   "source": [
    "playstore_data['Content Rating'].value_counts()"
   ]
  },
  {
   "cell_type": "code",
   "execution_count": 42,
   "id": "65ad832b-4a9c-4407-a010-2b791981ca39",
   "metadata": {},
   "outputs": [],
   "source": [
    "#let's organize the rating given by different ages groups\n",
    "playstore_data['Content Rating'] = playstore_data['Content Rating'].replace('Unrated',\"Everyone\")\n",
    "\n",
    "#Cleaning other values just to include Everyone, Teens and Adult \n",
    "playstore_data['Content Rating'] = playstore_data['Content Rating'].replace('Mature 17+',\"Adults\")\n",
    "playstore_data['Content Rating'] = playstore_data['Content Rating'].replace('Adults only 18+',\"Adults\")\n",
    "playstore_data['Content Rating'] = playstore_data['Content Rating'].replace('Everyone 10+',\"Everyone\")"
   ]
  },
  {
   "cell_type": "code",
   "execution_count": 43,
   "id": "a876811b-b2c4-4306-84f8-41bcf809d277",
   "metadata": {},
   "outputs": [
    {
     "data": {
      "text/plain": [
       "array(['Everyone', 'Teen', 'Adults'], dtype=object)"
      ]
     },
     "execution_count": 43,
     "metadata": {},
     "output_type": "execute_result"
    }
   ],
   "source": [
    "playstore_data['Content Rating'].unique()"
   ]
  },
  {
   "cell_type": "markdown",
   "id": "a625b0f0-a2a4-45a6-a6af-208352f3ffdd",
   "metadata": {},
   "source": [
    "### Checking Category, Ad supported, In App Purchases and Editors Choice columns"
   ]
  },
  {
   "cell_type": "code",
   "execution_count": 44,
   "id": "5770e9ad-885f-4c4f-a162-d2dffa9374cc",
   "metadata": {},
   "outputs": [
    {
     "data": {
      "text/plain": [
       "array(['Adventure', 'Tools', 'Productivity', 'Communication', 'Social',\n",
       "       'Libraries & Demo', 'Lifestyle', 'Personalization', 'Racing',\n",
       "       'Maps & Navigation', 'Travel & Local', 'Food & Drink',\n",
       "       'Books & Reference', 'Medical', 'Puzzle', 'Entertainment',\n",
       "       'Arcade', 'Auto & Vehicles', 'Photography', 'Health & Fitness',\n",
       "       'Education', 'Shopping', 'Board', 'Music & Audio', 'Sports',\n",
       "       'Beauty', 'Business', 'Educational', 'Finance', 'News & Magazines',\n",
       "       'Casual', 'Art & Design', 'House & Home', 'Card', 'Events',\n",
       "       'Trivia', 'Weather', 'Strategy', 'Word', 'Video Players & Editors',\n",
       "       'Action', 'Simulation', 'Music', 'Dating', 'Role Playing',\n",
       "       'Casino', 'Comics', 'Parenting'], dtype=object)"
      ]
     },
     "execution_count": 44,
     "metadata": {},
     "output_type": "execute_result"
    }
   ],
   "source": [
    "playstore_data['Category'].unique()"
   ]
  },
  {
   "cell_type": "code",
   "execution_count": 45,
   "id": "f8060ef0-7f52-4866-941a-e0c824d4ca3f",
   "metadata": {},
   "outputs": [
    {
     "data": {
      "text/plain": [
       "Category\n",
       "Education                  236116\n",
       "Music & Audio              153452\n",
       "Tools                      138334\n",
       "Business                   136550\n",
       "Entertainment              135484\n",
       "Books & Reference          115537\n",
       "Lifestyle                  115340\n",
       "Personalization             88860\n",
       "Health & Fitness            80723\n",
       "Productivity                75275\n",
       "Shopping                    71573\n",
       "Food & Drink                71023\n",
       "Travel & Local              64882\n",
       "Finance                     62125\n",
       "Arcade                      52489\n",
       "Puzzle                      49915\n",
       "Casual                      48873\n",
       "Communication               46145\n",
       "Sports                      45814\n",
       "Social                      43132\n",
       "News & Magazines            41873\n",
       "Photography                 35163\n",
       "Medical                     30125\n",
       "Action                      26626\n",
       "Maps & Navigation           25052\n",
       "Adventure                   22540\n",
       "Simulation                  22476\n",
       "Educational                 20736\n",
       "Art & Design                18310\n",
       "Auto & Vehicles             16960\n",
       "Video Players & Editors     13716\n",
       "House & Home                13690\n",
       "Events                      12387\n",
       "Trivia                      11525\n",
       "Beauty                      11483\n",
       "Board                       10342\n",
       "Racing                      10153\n",
       "Role Playing                 9204\n",
       "Word                         8399\n",
       "Strategy                     8080\n",
       "Card                         7916\n",
       "Weather                      6962\n",
       "Dating                       6330\n",
       "Casino                       4924\n",
       "Libraries & Demo             4797\n",
       "Music                        4100\n",
       "Parenting                    3600\n",
       "Comics                       2768\n",
       "Name: count, dtype: int64"
      ]
     },
     "execution_count": 45,
     "metadata": {},
     "output_type": "execute_result"
    }
   ],
   "source": [
    "playstore_data['Category'].value_counts()"
   ]
  },
  {
   "cell_type": "code",
   "execution_count": 46,
   "id": "7266ad62-1d80-43cd-8f79-238257c68255",
   "metadata": {},
   "outputs": [
    {
     "data": {
      "text/plain": [
       "Ad Supported\n",
       "True     1135294\n",
       "False    1106585\n",
       "Name: count, dtype: int64"
      ]
     },
     "execution_count": 46,
     "metadata": {},
     "output_type": "execute_result"
    }
   ],
   "source": [
    "playstore_data['Ad Supported'].value_counts()"
   ]
  },
  {
   "cell_type": "code",
   "execution_count": 47,
   "id": "d3a1d302-9f7b-4c2e-a0c1-686d0cb76507",
   "metadata": {},
   "outputs": [],
   "source": [
    "#let's change the In App Purchases values from boolean to Yes and No\n",
    "playstore_data[\"Ad Supported\"] = playstore_data[\"Ad Supported\"].replace({True: 'Yes', False: 'No'})\n"
   ]
  },
  {
   "cell_type": "code",
   "execution_count": 48,
   "id": "fc4123a6-56b2-47ce-a15f-71d8efe73da2",
   "metadata": {},
   "outputs": [
    {
     "data": {
      "text/plain": [
       "array(['No', 'Yes'], dtype=object)"
      ]
     },
     "execution_count": 48,
     "metadata": {},
     "output_type": "execute_result"
    }
   ],
   "source": [
    "playstore_data['Ad Supported'].unique()"
   ]
  },
  {
   "cell_type": "code",
   "execution_count": 49,
   "id": "ef559ee3-caff-495b-81c0-38b45aa708bd",
   "metadata": {},
   "outputs": [
    {
     "data": {
      "text/plain": [
       "In App Purchases\n",
       "False    2050280\n",
       "True      191599\n",
       "Name: count, dtype: int64"
      ]
     },
     "execution_count": 49,
     "metadata": {},
     "output_type": "execute_result"
    }
   ],
   "source": [
    "playstore_data['In App Purchases'].value_counts()"
   ]
  },
  {
   "cell_type": "code",
   "execution_count": 50,
   "id": "47ed4bff-f131-4307-a27a-f677e3d563ed",
   "metadata": {},
   "outputs": [],
   "source": [
    "#let's change the In App Purchases values from boolean to Yes and No\n",
    "playstore_data[\"In App Purchases\"] = playstore_data[\"In App Purchases\"].replace({True: 'Yes', False: 'No'})\n"
   ]
  },
  {
   "cell_type": "code",
   "execution_count": 51,
   "id": "a24acaab-d519-4c20-9b9f-67bce4945c2f",
   "metadata": {},
   "outputs": [
    {
     "data": {
      "text/plain": [
       "array(['No', 'Yes'], dtype=object)"
      ]
     },
     "execution_count": 51,
     "metadata": {},
     "output_type": "execute_result"
    }
   ],
   "source": [
    "playstore_data['In App Purchases'].unique()"
   ]
  },
  {
   "cell_type": "code",
   "execution_count": 52,
   "id": "d1c6f0b7-9c22-4900-91e4-f6b3bc4e648e",
   "metadata": {},
   "outputs": [
    {
     "data": {
      "text/plain": [
       "Editors Choice\n",
       "False    2241094\n",
       "True         785\n",
       "Name: count, dtype: int64"
      ]
     },
     "execution_count": 52,
     "metadata": {},
     "output_type": "execute_result"
    }
   ],
   "source": [
    "playstore_data['Editors Choice'].value_counts()"
   ]
  },
  {
   "cell_type": "code",
   "execution_count": 53,
   "id": "bbbad8ec-3f56-4639-a971-4037cd869f73",
   "metadata": {},
   "outputs": [],
   "source": [
    "#let's change the editor's choice values from boolean to Yes and No, because it helps to say whether an app has received the \"Editor's Choice\" designation\n",
    "playstore_data[\"Editors Choice\"] = playstore_data[\"Editors Choice\"].replace({True: 'Yes', False: 'No'})\n",
    "\n"
   ]
  },
  {
   "cell_type": "code",
   "execution_count": 54,
   "id": "f43eef8f-69ba-46e3-850d-70074bfe53dd",
   "metadata": {},
   "outputs": [
    {
     "data": {
      "text/plain": [
       "array(['No', 'Yes'], dtype=object)"
      ]
     },
     "execution_count": 54,
     "metadata": {},
     "output_type": "execute_result"
    }
   ],
   "source": [
    "playstore_data['Editors Choice'].unique()"
   ]
  },
  {
   "cell_type": "code",
   "execution_count": 55,
   "id": "d4e3d711-71f8-4d42-9243-9d80c8f6e6f4",
   "metadata": {},
   "outputs": [
    {
     "name": "stdout",
     "output_type": "stream",
     "text": [
      "<class 'pandas.core.frame.DataFrame'>\n",
      "Index: 2241879 entries, 0 to 2312943\n",
      "Data columns (total 16 columns):\n",
      " #   Column            Dtype         \n",
      "---  ------            -----         \n",
      " 0   App Name          object        \n",
      " 1   Category          object        \n",
      " 2   Rating            float64       \n",
      " 3   Rating Count      float64       \n",
      " 4   Installs          int64         \n",
      " 5   Minimum Installs  float64       \n",
      " 6   Maximum Installs  int64         \n",
      " 7   Price             float64       \n",
      " 8   Size              float64       \n",
      " 9   Released          datetime64[ns]\n",
      " 10  Last Updated      datetime64[ns]\n",
      " 11  Content Rating    object        \n",
      " 12  Ad Supported      object        \n",
      " 13  In App Purchases  object        \n",
      " 14  Editors Choice    object        \n",
      " 15  Type              object        \n",
      "dtypes: datetime64[ns](2), float64(5), int64(2), object(7)\n",
      "memory usage: 290.8+ MB\n"
     ]
    }
   ],
   "source": [
    "playstore_data.info()"
   ]
  },
  {
   "cell_type": "code",
   "execution_count": 56,
   "id": "23905ec5-bef1-442e-829b-8c1eb3f5cb08",
   "metadata": {
    "scrolled": true
   },
   "outputs": [
    {
     "data": {
      "text/html": [
       "<div>\n",
       "<style scoped>\n",
       "    .dataframe tbody tr th:only-of-type {\n",
       "        vertical-align: middle;\n",
       "    }\n",
       "\n",
       "    .dataframe tbody tr th {\n",
       "        vertical-align: top;\n",
       "    }\n",
       "\n",
       "    .dataframe thead th {\n",
       "        text-align: right;\n",
       "    }\n",
       "</style>\n",
       "<table border=\"1\" class=\"dataframe\">\n",
       "  <thead>\n",
       "    <tr style=\"text-align: right;\">\n",
       "      <th></th>\n",
       "      <th>App Name</th>\n",
       "      <th>Category</th>\n",
       "      <th>Rating</th>\n",
       "      <th>Rating Count</th>\n",
       "      <th>Installs</th>\n",
       "      <th>Minimum Installs</th>\n",
       "      <th>Maximum Installs</th>\n",
       "      <th>Price</th>\n",
       "      <th>Size</th>\n",
       "      <th>Released</th>\n",
       "      <th>Last Updated</th>\n",
       "      <th>Content Rating</th>\n",
       "      <th>Ad Supported</th>\n",
       "      <th>In App Purchases</th>\n",
       "      <th>Editors Choice</th>\n",
       "      <th>Type</th>\n",
       "    </tr>\n",
       "  </thead>\n",
       "  <tbody>\n",
       "    <tr>\n",
       "      <th>0</th>\n",
       "      <td>Gakondo</td>\n",
       "      <td>Adventure</td>\n",
       "      <td>0.0</td>\n",
       "      <td>0.0</td>\n",
       "      <td>10</td>\n",
       "      <td>10.0</td>\n",
       "      <td>15</td>\n",
       "      <td>0.0</td>\n",
       "      <td>10.0</td>\n",
       "      <td>2020-02-26</td>\n",
       "      <td>2020-02-26</td>\n",
       "      <td>Everyone</td>\n",
       "      <td>No</td>\n",
       "      <td>No</td>\n",
       "      <td>No</td>\n",
       "      <td>Free</td>\n",
       "    </tr>\n",
       "    <tr>\n",
       "      <th>1</th>\n",
       "      <td>Ampere Battery Info</td>\n",
       "      <td>Tools</td>\n",
       "      <td>4.4</td>\n",
       "      <td>4.4</td>\n",
       "      <td>5000</td>\n",
       "      <td>5000.0</td>\n",
       "      <td>7662</td>\n",
       "      <td>0.0</td>\n",
       "      <td>2.9</td>\n",
       "      <td>2020-05-21</td>\n",
       "      <td>2021-05-06</td>\n",
       "      <td>Everyone</td>\n",
       "      <td>Yes</td>\n",
       "      <td>No</td>\n",
       "      <td>No</td>\n",
       "      <td>Free</td>\n",
       "    </tr>\n",
       "    <tr>\n",
       "      <th>2</th>\n",
       "      <td>Vibook</td>\n",
       "      <td>Productivity</td>\n",
       "      <td>0.0</td>\n",
       "      <td>0.0</td>\n",
       "      <td>50</td>\n",
       "      <td>50.0</td>\n",
       "      <td>58</td>\n",
       "      <td>0.0</td>\n",
       "      <td>3.7</td>\n",
       "      <td>2019-08-09</td>\n",
       "      <td>2019-08-19</td>\n",
       "      <td>Everyone</td>\n",
       "      <td>No</td>\n",
       "      <td>No</td>\n",
       "      <td>No</td>\n",
       "      <td>Free</td>\n",
       "    </tr>\n",
       "    <tr>\n",
       "      <th>3</th>\n",
       "      <td>Smart City Trichy Public Service Vehicles 17UC...</td>\n",
       "      <td>Communication</td>\n",
       "      <td>5.0</td>\n",
       "      <td>5.0</td>\n",
       "      <td>10</td>\n",
       "      <td>10.0</td>\n",
       "      <td>19</td>\n",
       "      <td>0.0</td>\n",
       "      <td>1.8</td>\n",
       "      <td>2018-09-10</td>\n",
       "      <td>2018-10-13</td>\n",
       "      <td>Everyone</td>\n",
       "      <td>Yes</td>\n",
       "      <td>No</td>\n",
       "      <td>No</td>\n",
       "      <td>Free</td>\n",
       "    </tr>\n",
       "    <tr>\n",
       "      <th>4</th>\n",
       "      <td>GROW.me</td>\n",
       "      <td>Tools</td>\n",
       "      <td>0.0</td>\n",
       "      <td>0.0</td>\n",
       "      <td>100</td>\n",
       "      <td>100.0</td>\n",
       "      <td>478</td>\n",
       "      <td>0.0</td>\n",
       "      <td>6.2</td>\n",
       "      <td>2020-02-21</td>\n",
       "      <td>2018-11-12</td>\n",
       "      <td>Everyone</td>\n",
       "      <td>No</td>\n",
       "      <td>No</td>\n",
       "      <td>No</td>\n",
       "      <td>Free</td>\n",
       "    </tr>\n",
       "  </tbody>\n",
       "</table>\n",
       "</div>"
      ],
      "text/plain": [
       "                                            App Name       Category  Rating  \\\n",
       "0                                            Gakondo      Adventure     0.0   \n",
       "1                                Ampere Battery Info          Tools     4.4   \n",
       "2                                             Vibook   Productivity     0.0   \n",
       "3  Smart City Trichy Public Service Vehicles 17UC...  Communication     5.0   \n",
       "4                                            GROW.me          Tools     0.0   \n",
       "\n",
       "   Rating Count  Installs  Minimum Installs  Maximum Installs  Price  Size  \\\n",
       "0           0.0        10              10.0                15    0.0  10.0   \n",
       "1           4.4      5000            5000.0              7662    0.0   2.9   \n",
       "2           0.0        50              50.0                58    0.0   3.7   \n",
       "3           5.0        10              10.0                19    0.0   1.8   \n",
       "4           0.0       100             100.0               478    0.0   6.2   \n",
       "\n",
       "    Released Last Updated Content Rating Ad Supported In App Purchases  \\\n",
       "0 2020-02-26   2020-02-26       Everyone           No               No   \n",
       "1 2020-05-21   2021-05-06       Everyone          Yes               No   \n",
       "2 2019-08-09   2019-08-19       Everyone           No               No   \n",
       "3 2018-09-10   2018-10-13       Everyone          Yes               No   \n",
       "4 2020-02-21   2018-11-12       Everyone           No               No   \n",
       "\n",
       "  Editors Choice  Type  \n",
       "0             No  Free  \n",
       "1             No  Free  \n",
       "2             No  Free  \n",
       "3             No  Free  \n",
       "4             No  Free  "
      ]
     },
     "execution_count": 56,
     "metadata": {},
     "output_type": "execute_result"
    }
   ],
   "source": [
    "#leaned playstore data with required features, ready to merge with stock_data\n",
    "playstore_data.head()"
   ]
  },
  {
   "cell_type": "code",
   "execution_count": 57,
   "id": "17f93632-2d44-4ebb-acf2-69bc6789b725",
   "metadata": {},
   "outputs": [
    {
     "data": {
      "text/plain": [
       "(2241879, 16)"
      ]
     },
     "execution_count": 57,
     "metadata": {},
     "output_type": "execute_result"
    }
   ],
   "source": [
    "playstore_data.shape"
   ]
  },
  {
   "cell_type": "markdown",
   "id": "dd3ba6f1-ef4e-4c35-9ad4-34f4a97ee529",
   "metadata": {},
   "source": [
    "# stock_data"
   ]
  },
  {
   "cell_type": "code",
   "execution_count": 58,
   "id": "26a86f81-2c5b-44ec-a0d3-d5b147bb5e49",
   "metadata": {},
   "outputs": [
    {
     "data": {
      "text/html": [
       "<div>\n",
       "<style scoped>\n",
       "    .dataframe tbody tr th:only-of-type {\n",
       "        vertical-align: middle;\n",
       "    }\n",
       "\n",
       "    .dataframe tbody tr th {\n",
       "        vertical-align: top;\n",
       "    }\n",
       "\n",
       "    .dataframe thead th {\n",
       "        text-align: right;\n",
       "    }\n",
       "</style>\n",
       "<table border=\"1\" class=\"dataframe\">\n",
       "  <thead>\n",
       "    <tr style=\"text-align: right;\">\n",
       "      <th></th>\n",
       "      <th>Date</th>\n",
       "      <th>Open</th>\n",
       "      <th>High</th>\n",
       "      <th>Low</th>\n",
       "      <th>Close</th>\n",
       "      <th>Adj Close</th>\n",
       "      <th>Volume</th>\n",
       "    </tr>\n",
       "  </thead>\n",
       "  <tbody>\n",
       "    <tr>\n",
       "      <th>0</th>\n",
       "      <td>2004-08-19</td>\n",
       "      <td>50.050049</td>\n",
       "      <td>52.082081</td>\n",
       "      <td>48.028027</td>\n",
       "      <td>50.220219</td>\n",
       "      <td>50.220219</td>\n",
       "      <td>44659000</td>\n",
       "    </tr>\n",
       "    <tr>\n",
       "      <th>1</th>\n",
       "      <td>2004-08-20</td>\n",
       "      <td>50.555557</td>\n",
       "      <td>54.594593</td>\n",
       "      <td>50.300301</td>\n",
       "      <td>54.209209</td>\n",
       "      <td>54.209209</td>\n",
       "      <td>22834300</td>\n",
       "    </tr>\n",
       "    <tr>\n",
       "      <th>2</th>\n",
       "      <td>2004-08-23</td>\n",
       "      <td>55.430431</td>\n",
       "      <td>56.796795</td>\n",
       "      <td>54.579578</td>\n",
       "      <td>54.754753</td>\n",
       "      <td>54.754753</td>\n",
       "      <td>18256100</td>\n",
       "    </tr>\n",
       "    <tr>\n",
       "      <th>3</th>\n",
       "      <td>2004-08-24</td>\n",
       "      <td>55.675674</td>\n",
       "      <td>55.855854</td>\n",
       "      <td>51.836838</td>\n",
       "      <td>52.487488</td>\n",
       "      <td>52.487488</td>\n",
       "      <td>15247300</td>\n",
       "    </tr>\n",
       "    <tr>\n",
       "      <th>4</th>\n",
       "      <td>2004-08-25</td>\n",
       "      <td>52.532532</td>\n",
       "      <td>54.054054</td>\n",
       "      <td>51.991993</td>\n",
       "      <td>53.053055</td>\n",
       "      <td>53.053055</td>\n",
       "      <td>9188600</td>\n",
       "    </tr>\n",
       "  </tbody>\n",
       "</table>\n",
       "</div>"
      ],
      "text/plain": [
       "         Date       Open       High        Low      Close  Adj Close    Volume\n",
       "0  2004-08-19  50.050049  52.082081  48.028027  50.220219  50.220219  44659000\n",
       "1  2004-08-20  50.555557  54.594593  50.300301  54.209209  54.209209  22834300\n",
       "2  2004-08-23  55.430431  56.796795  54.579578  54.754753  54.754753  18256100\n",
       "3  2004-08-24  55.675674  55.855854  51.836838  52.487488  52.487488  15247300\n",
       "4  2004-08-25  52.532532  54.054054  51.991993  53.053055  53.053055   9188600"
      ]
     },
     "execution_count": 58,
     "metadata": {},
     "output_type": "execute_result"
    }
   ],
   "source": [
    "#now, let's explore google stock market dataset\n",
    "stock_data.head()"
   ]
  },
  {
   "cell_type": "code",
   "execution_count": 59,
   "id": "44c0050a-9126-4483-baa9-47fb18459665",
   "metadata": {},
   "outputs": [
    {
     "data": {
      "text/plain": [
       "0"
      ]
     },
     "execution_count": 59,
     "metadata": {},
     "output_type": "execute_result"
    }
   ],
   "source": [
    "stock_data.duplicated().sum()"
   ]
  },
  {
   "cell_type": "code",
   "execution_count": 60,
   "id": "ef2ea05f-3109-4a4c-b42b-59c785e76efb",
   "metadata": {},
   "outputs": [
    {
     "data": {
      "text/html": [
       "<div>\n",
       "<style scoped>\n",
       "    .dataframe tbody tr th:only-of-type {\n",
       "        vertical-align: middle;\n",
       "    }\n",
       "\n",
       "    .dataframe tbody tr th {\n",
       "        vertical-align: top;\n",
       "    }\n",
       "\n",
       "    .dataframe thead th {\n",
       "        text-align: right;\n",
       "    }\n",
       "</style>\n",
       "<table border=\"1\" class=\"dataframe\">\n",
       "  <thead>\n",
       "    <tr style=\"text-align: right;\">\n",
       "      <th></th>\n",
       "      <th>Open</th>\n",
       "      <th>High</th>\n",
       "      <th>Low</th>\n",
       "      <th>Close</th>\n",
       "      <th>Adj Close</th>\n",
       "      <th>Volume</th>\n",
       "    </tr>\n",
       "  </thead>\n",
       "  <tbody>\n",
       "    <tr>\n",
       "      <th>count</th>\n",
       "      <td>4041.000000</td>\n",
       "      <td>4041.000000</td>\n",
       "      <td>4041.000000</td>\n",
       "      <td>4041.000000</td>\n",
       "      <td>4041.000000</td>\n",
       "      <td>4.041000e+03</td>\n",
       "    </tr>\n",
       "    <tr>\n",
       "      <th>mean</th>\n",
       "      <td>533.983149</td>\n",
       "      <td>538.995819</td>\n",
       "      <td>528.658860</td>\n",
       "      <td>533.999060</td>\n",
       "      <td>533.999060</td>\n",
       "      <td>6.909802e+06</td>\n",
       "    </tr>\n",
       "    <tr>\n",
       "      <th>std</th>\n",
       "      <td>383.007917</td>\n",
       "      <td>386.590237</td>\n",
       "      <td>379.488087</td>\n",
       "      <td>383.326004</td>\n",
       "      <td>383.326004</td>\n",
       "      <td>7.895987e+06</td>\n",
       "    </tr>\n",
       "    <tr>\n",
       "      <th>min</th>\n",
       "      <td>49.644646</td>\n",
       "      <td>50.920921</td>\n",
       "      <td>48.028027</td>\n",
       "      <td>50.055054</td>\n",
       "      <td>50.055054</td>\n",
       "      <td>5.206000e+05</td>\n",
       "    </tr>\n",
       "    <tr>\n",
       "      <th>25%</th>\n",
       "      <td>241.211212</td>\n",
       "      <td>243.688690</td>\n",
       "      <td>238.873871</td>\n",
       "      <td>241.036041</td>\n",
       "      <td>241.036041</td>\n",
       "      <td>1.844600e+06</td>\n",
       "    </tr>\n",
       "    <tr>\n",
       "      <th>50%</th>\n",
       "      <td>342.592590</td>\n",
       "      <td>345.795807</td>\n",
       "      <td>338.598602</td>\n",
       "      <td>342.177185</td>\n",
       "      <td>342.177185</td>\n",
       "      <td>4.191600e+06</td>\n",
       "    </tr>\n",
       "    <tr>\n",
       "      <th>75%</th>\n",
       "      <td>791.979980</td>\n",
       "      <td>798.000000</td>\n",
       "      <td>786.200012</td>\n",
       "      <td>790.460022</td>\n",
       "      <td>790.460022</td>\n",
       "      <td>8.702600e+06</td>\n",
       "    </tr>\n",
       "    <tr>\n",
       "      <th>max</th>\n",
       "      <td>1699.520020</td>\n",
       "      <td>1726.099976</td>\n",
       "      <td>1660.189941</td>\n",
       "      <td>1717.390015</td>\n",
       "      <td>1717.390015</td>\n",
       "      <td>8.215110e+07</td>\n",
       "    </tr>\n",
       "  </tbody>\n",
       "</table>\n",
       "</div>"
      ],
      "text/plain": [
       "              Open         High          Low        Close    Adj Close  \\\n",
       "count  4041.000000  4041.000000  4041.000000  4041.000000  4041.000000   \n",
       "mean    533.983149   538.995819   528.658860   533.999060   533.999060   \n",
       "std     383.007917   386.590237   379.488087   383.326004   383.326004   \n",
       "min      49.644646    50.920921    48.028027    50.055054    50.055054   \n",
       "25%     241.211212   243.688690   238.873871   241.036041   241.036041   \n",
       "50%     342.592590   345.795807   338.598602   342.177185   342.177185   \n",
       "75%     791.979980   798.000000   786.200012   790.460022   790.460022   \n",
       "max    1699.520020  1726.099976  1660.189941  1717.390015  1717.390015   \n",
       "\n",
       "             Volume  \n",
       "count  4.041000e+03  \n",
       "mean   6.909802e+06  \n",
       "std    7.895987e+06  \n",
       "min    5.206000e+05  \n",
       "25%    1.844600e+06  \n",
       "50%    4.191600e+06  \n",
       "75%    8.702600e+06  \n",
       "max    8.215110e+07  "
      ]
     },
     "execution_count": 60,
     "metadata": {},
     "output_type": "execute_result"
    }
   ],
   "source": [
    "stock_data.describe()"
   ]
  },
  {
   "cell_type": "code",
   "execution_count": 61,
   "id": "6fd3451a-9bfe-48e2-bc92-1c1fdf7fcd8d",
   "metadata": {},
   "outputs": [
    {
     "data": {
      "text/plain": [
       "Index(['Date', 'Open', 'High', 'Low', 'Close', 'Adj Close', 'Volume'], dtype='object')"
      ]
     },
     "execution_count": 61,
     "metadata": {},
     "output_type": "execute_result"
    }
   ],
   "source": [
    "stock_data.columns"
   ]
  },
  {
   "cell_type": "code",
   "execution_count": 62,
   "id": "89bbfa0e-e1a7-4af2-8db8-e71f3273f7f6",
   "metadata": {},
   "outputs": [],
   "source": [
    "#drop unwanted column\n",
    "stock_data=stock_data.drop(['Adj Close'], axis=1)"
   ]
  },
  {
   "cell_type": "code",
   "execution_count": 63,
   "id": "0cdac92b-d09b-45d6-abad-dbff0da719e7",
   "metadata": {},
   "outputs": [
    {
     "name": "stdout",
     "output_type": "stream",
     "text": [
      "<class 'pandas.core.frame.DataFrame'>\n",
      "RangeIndex: 4041 entries, 0 to 4040\n",
      "Data columns (total 6 columns):\n",
      " #   Column  Non-Null Count  Dtype  \n",
      "---  ------  --------------  -----  \n",
      " 0   Date    4041 non-null   object \n",
      " 1   Open    4041 non-null   float64\n",
      " 2   High    4041 non-null   float64\n",
      " 3   Low     4041 non-null   float64\n",
      " 4   Close   4041 non-null   float64\n",
      " 5   Volume  4041 non-null   int64  \n",
      "dtypes: float64(4), int64(1), object(1)\n",
      "memory usage: 189.6+ KB\n"
     ]
    }
   ],
   "source": [
    "stock_data.info()"
   ]
  },
  {
   "cell_type": "code",
   "execution_count": 64,
   "id": "ec318c3a-9ca2-4c27-89f0-0a4923352d79",
   "metadata": {},
   "outputs": [],
   "source": [
    "#converting Date column to datetime\n",
    "stock_data['Date'] = pd.to_datetime(stock_data['Date'], format='%Y-%m-%d')"
   ]
  },
  {
   "cell_type": "code",
   "execution_count": 65,
   "id": "faf6b3e2-1190-4e2e-9e84-615827546380",
   "metadata": {},
   "outputs": [
    {
     "data": {
      "text/plain": [
       "Date      0\n",
       "Open      0\n",
       "High      0\n",
       "Low       0\n",
       "Close     0\n",
       "Volume    0\n",
       "dtype: int64"
      ]
     },
     "execution_count": 65,
     "metadata": {},
     "output_type": "execute_result"
    }
   ],
   "source": [
    "stock_data.isna().sum()"
   ]
  },
  {
   "cell_type": "code",
   "execution_count": 66,
   "id": "f25dc9f1-e42e-44ca-a629-8b81f5f4e3bf",
   "metadata": {},
   "outputs": [
    {
     "data": {
      "text/plain": [
       "(4041, 6)"
      ]
     },
     "execution_count": 66,
     "metadata": {},
     "output_type": "execute_result"
    }
   ],
   "source": [
    "stock_data.shape"
   ]
  },
  {
   "cell_type": "markdown",
   "id": "9b6ff3af-9e8f-4396-a00b-141c11bcb977",
   "metadata": {},
   "source": [
    "# Merging Datasets: playstore_data and stock_data"
   ]
  },
  {
   "cell_type": "code",
   "execution_count": 67,
   "id": "7ed877c2-5c4f-4f47-8e56-f201ff0e3d81",
   "metadata": {},
   "outputs": [],
   "source": [
    "# Merge datasets on the date columns from both dataset. Released column from playstore dataset and Date column from stock dataset\n",
    "play_stock_data = pd.merge(playstore_data, stock_data, how='inner', left_on='Released', right_on='Date')"
   ]
  },
  {
   "cell_type": "code",
   "execution_count": 68,
   "id": "5876ddff-9c1e-4e4f-b5e6-2b39c2d1e3c4",
   "metadata": {
    "scrolled": true
   },
   "outputs": [
    {
     "data": {
      "text/html": [
       "<div>\n",
       "<style scoped>\n",
       "    .dataframe tbody tr th:only-of-type {\n",
       "        vertical-align: middle;\n",
       "    }\n",
       "\n",
       "    .dataframe tbody tr th {\n",
       "        vertical-align: top;\n",
       "    }\n",
       "\n",
       "    .dataframe thead th {\n",
       "        text-align: right;\n",
       "    }\n",
       "</style>\n",
       "<table border=\"1\" class=\"dataframe\">\n",
       "  <thead>\n",
       "    <tr style=\"text-align: right;\">\n",
       "      <th></th>\n",
       "      <th>App Name</th>\n",
       "      <th>Category</th>\n",
       "      <th>Rating</th>\n",
       "      <th>Rating Count</th>\n",
       "      <th>Installs</th>\n",
       "      <th>Minimum Installs</th>\n",
       "      <th>Maximum Installs</th>\n",
       "      <th>Price</th>\n",
       "      <th>Size</th>\n",
       "      <th>Released</th>\n",
       "      <th>...</th>\n",
       "      <th>Ad Supported</th>\n",
       "      <th>In App Purchases</th>\n",
       "      <th>Editors Choice</th>\n",
       "      <th>Type</th>\n",
       "      <th>Date</th>\n",
       "      <th>Open</th>\n",
       "      <th>High</th>\n",
       "      <th>Low</th>\n",
       "      <th>Close</th>\n",
       "      <th>Volume</th>\n",
       "    </tr>\n",
       "  </thead>\n",
       "  <tbody>\n",
       "    <tr>\n",
       "      <th>0</th>\n",
       "      <td>Gakondo</td>\n",
       "      <td>Adventure</td>\n",
       "      <td>0.0</td>\n",
       "      <td>0.0</td>\n",
       "      <td>10</td>\n",
       "      <td>10.0</td>\n",
       "      <td>15</td>\n",
       "      <td>0.0</td>\n",
       "      <td>10.0</td>\n",
       "      <td>2020-02-26</td>\n",
       "      <td>...</td>\n",
       "      <td>No</td>\n",
       "      <td>No</td>\n",
       "      <td>No</td>\n",
       "      <td>Free</td>\n",
       "      <td>2020-02-26</td>\n",
       "      <td>1394.97998</td>\n",
       "      <td>1413.670044</td>\n",
       "      <td>1376.550049</td>\n",
       "      <td>1390.469971</td>\n",
       "      <td>2488800</td>\n",
       "    </tr>\n",
       "    <tr>\n",
       "      <th>1</th>\n",
       "      <td>Monkey Jungle Escape</td>\n",
       "      <td>Arcade</td>\n",
       "      <td>0.0</td>\n",
       "      <td>0.0</td>\n",
       "      <td>10</td>\n",
       "      <td>10.0</td>\n",
       "      <td>35</td>\n",
       "      <td>0.0</td>\n",
       "      <td>21.0</td>\n",
       "      <td>2020-02-26</td>\n",
       "      <td>...</td>\n",
       "      <td>No</td>\n",
       "      <td>No</td>\n",
       "      <td>No</td>\n",
       "      <td>Free</td>\n",
       "      <td>2020-02-26</td>\n",
       "      <td>1394.97998</td>\n",
       "      <td>1413.670044</td>\n",
       "      <td>1376.550049</td>\n",
       "      <td>1390.469971</td>\n",
       "      <td>2488800</td>\n",
       "    </tr>\n",
       "    <tr>\n",
       "      <th>2</th>\n",
       "      <td>Saint Jude Thaddeus</td>\n",
       "      <td>Books &amp; Reference</td>\n",
       "      <td>4.3</td>\n",
       "      <td>4.3</td>\n",
       "      <td>1000</td>\n",
       "      <td>1000.0</td>\n",
       "      <td>1105</td>\n",
       "      <td>0.0</td>\n",
       "      <td>4.4</td>\n",
       "      <td>2020-02-26</td>\n",
       "      <td>...</td>\n",
       "      <td>No</td>\n",
       "      <td>No</td>\n",
       "      <td>No</td>\n",
       "      <td>Free</td>\n",
       "      <td>2020-02-26</td>\n",
       "      <td>1394.97998</td>\n",
       "      <td>1413.670044</td>\n",
       "      <td>1376.550049</td>\n",
       "      <td>1390.469971</td>\n",
       "      <td>2488800</td>\n",
       "    </tr>\n",
       "    <tr>\n",
       "      <th>3</th>\n",
       "      <td>Audiobooks listen online: Booklis</td>\n",
       "      <td>Books &amp; Reference</td>\n",
       "      <td>4.3</td>\n",
       "      <td>4.3</td>\n",
       "      <td>100000</td>\n",
       "      <td>100000.0</td>\n",
       "      <td>261691</td>\n",
       "      <td>0.0</td>\n",
       "      <td>38.0</td>\n",
       "      <td>2020-02-26</td>\n",
       "      <td>...</td>\n",
       "      <td>Yes</td>\n",
       "      <td>Yes</td>\n",
       "      <td>No</td>\n",
       "      <td>Free</td>\n",
       "      <td>2020-02-26</td>\n",
       "      <td>1394.97998</td>\n",
       "      <td>1413.670044</td>\n",
       "      <td>1376.550049</td>\n",
       "      <td>1390.469971</td>\n",
       "      <td>2488800</td>\n",
       "    </tr>\n",
       "    <tr>\n",
       "      <th>4</th>\n",
       "      <td>Maps Redstone House - Modern Mansions</td>\n",
       "      <td>Entertainment</td>\n",
       "      <td>3.4</td>\n",
       "      <td>3.4</td>\n",
       "      <td>10000</td>\n",
       "      <td>10000.0</td>\n",
       "      <td>27173</td>\n",
       "      <td>0.0</td>\n",
       "      <td>43.0</td>\n",
       "      <td>2020-02-26</td>\n",
       "      <td>...</td>\n",
       "      <td>Yes</td>\n",
       "      <td>No</td>\n",
       "      <td>No</td>\n",
       "      <td>Free</td>\n",
       "      <td>2020-02-26</td>\n",
       "      <td>1394.97998</td>\n",
       "      <td>1413.670044</td>\n",
       "      <td>1376.550049</td>\n",
       "      <td>1390.469971</td>\n",
       "      <td>2488800</td>\n",
       "    </tr>\n",
       "  </tbody>\n",
       "</table>\n",
       "<p>5 rows × 22 columns</p>\n",
       "</div>"
      ],
      "text/plain": [
       "                                App Name           Category  Rating  \\\n",
       "0                                Gakondo          Adventure     0.0   \n",
       "1                   Monkey Jungle Escape             Arcade     0.0   \n",
       "2                    Saint Jude Thaddeus  Books & Reference     4.3   \n",
       "3      Audiobooks listen online: Booklis  Books & Reference     4.3   \n",
       "4  Maps Redstone House - Modern Mansions      Entertainment     3.4   \n",
       "\n",
       "   Rating Count  Installs  Minimum Installs  Maximum Installs  Price  Size  \\\n",
       "0           0.0        10              10.0                15    0.0  10.0   \n",
       "1           0.0        10              10.0                35    0.0  21.0   \n",
       "2           4.3      1000            1000.0              1105    0.0   4.4   \n",
       "3           4.3    100000          100000.0            261691    0.0  38.0   \n",
       "4           3.4     10000           10000.0             27173    0.0  43.0   \n",
       "\n",
       "    Released  ... Ad Supported In App Purchases Editors Choice  Type  \\\n",
       "0 2020-02-26  ...           No               No             No  Free   \n",
       "1 2020-02-26  ...           No               No             No  Free   \n",
       "2 2020-02-26  ...           No               No             No  Free   \n",
       "3 2020-02-26  ...          Yes              Yes             No  Free   \n",
       "4 2020-02-26  ...          Yes               No             No  Free   \n",
       "\n",
       "        Date        Open         High          Low        Close   Volume  \n",
       "0 2020-02-26  1394.97998  1413.670044  1376.550049  1390.469971  2488800  \n",
       "1 2020-02-26  1394.97998  1413.670044  1376.550049  1390.469971  2488800  \n",
       "2 2020-02-26  1394.97998  1413.670044  1376.550049  1390.469971  2488800  \n",
       "3 2020-02-26  1394.97998  1413.670044  1376.550049  1390.469971  2488800  \n",
       "4 2020-02-26  1394.97998  1413.670044  1376.550049  1390.469971  2488800  \n",
       "\n",
       "[5 rows x 22 columns]"
      ]
     },
     "execution_count": 68,
     "metadata": {},
     "output_type": "execute_result"
    }
   ],
   "source": [
    "play_stock_data.head()\n"
   ]
  },
  {
   "cell_type": "code",
   "execution_count": 69,
   "id": "c714b803-fb6c-4a71-85af-df20dec3f933",
   "metadata": {},
   "outputs": [
    {
     "data": {
      "text/plain": [
       "(1483784, 22)"
      ]
     },
     "execution_count": 69,
     "metadata": {},
     "output_type": "execute_result"
    }
   ],
   "source": [
    "play_stock_data.shape"
   ]
  },
  {
   "cell_type": "code",
   "execution_count": 70,
   "id": "125a8f38-e5a7-4bc0-b07a-3e882518f545",
   "metadata": {},
   "outputs": [
    {
     "data": {
      "text/plain": [
       "Index(['App Name', 'Category', 'Rating', 'Rating Count', 'Installs',\n",
       "       'Minimum Installs', 'Maximum Installs', 'Price', 'Size', 'Released',\n",
       "       'Last Updated', 'Content Rating', 'Ad Supported', 'In App Purchases',\n",
       "       'Editors Choice', 'Type', 'Date', 'Open', 'High', 'Low', 'Close',\n",
       "       'Volume'],\n",
       "      dtype='object')"
      ]
     },
     "execution_count": 70,
     "metadata": {},
     "output_type": "execute_result"
    }
   ],
   "source": [
    "play_stock_data.columns"
   ]
  },
  {
   "cell_type": "code",
   "execution_count": 71,
   "id": "169742fe-2a77-42fc-bb69-4feadbe0518e",
   "metadata": {},
   "outputs": [
    {
     "name": "stdout",
     "output_type": "stream",
     "text": [
      "<class 'pandas.core.frame.DataFrame'>\n",
      "RangeIndex: 1483784 entries, 0 to 1483783\n",
      "Data columns (total 22 columns):\n",
      " #   Column            Non-Null Count    Dtype         \n",
      "---  ------            --------------    -----         \n",
      " 0   App Name          1483784 non-null  object        \n",
      " 1   Category          1483784 non-null  object        \n",
      " 2   Rating            1483784 non-null  float64       \n",
      " 3   Rating Count      1483784 non-null  float64       \n",
      " 4   Installs          1483784 non-null  int64         \n",
      " 5   Minimum Installs  1483784 non-null  float64       \n",
      " 6   Maximum Installs  1483784 non-null  int64         \n",
      " 7   Price             1483784 non-null  float64       \n",
      " 8   Size              1483784 non-null  float64       \n",
      " 9   Released          1483784 non-null  datetime64[ns]\n",
      " 10  Last Updated      1483784 non-null  datetime64[ns]\n",
      " 11  Content Rating    1483784 non-null  object        \n",
      " 12  Ad Supported      1483784 non-null  object        \n",
      " 13  In App Purchases  1483784 non-null  object        \n",
      " 14  Editors Choice    1483784 non-null  object        \n",
      " 15  Type              1483784 non-null  object        \n",
      " 16  Date              1483784 non-null  datetime64[ns]\n",
      " 17  Open              1483784 non-null  float64       \n",
      " 18  High              1483784 non-null  float64       \n",
      " 19  Low               1483784 non-null  float64       \n",
      " 20  Close             1483784 non-null  float64       \n",
      " 21  Volume            1483784 non-null  int64         \n",
      "dtypes: datetime64[ns](3), float64(9), int64(3), object(7)\n",
      "memory usage: 249.0+ MB\n"
     ]
    }
   ],
   "source": [
    "play_stock_data.info()"
   ]
  },
  {
   "cell_type": "markdown",
   "id": "22a1c173-3eca-4b9c-b8b1-1bdcd910efc5",
   "metadata": {},
   "source": [
    "# SUMMARY"
   ]
  },
  {
   "cell_type": "markdown",
   "id": "0ca2cd9e-f74f-4d1f-bd77-7ab3b9e4999c",
   "metadata": {},
   "source": [
    "<div style=\"text-align: justify;\">The final dataset after merging Google playstore dataset and google stock market dataset contains information about various apps, including their names, categories, ratings, install counts, prices, sizes, release dates, and more. It also includes stock market data such as open, high, low, close prices, and volume. The data was checked for missing values, duplicates and inconsistencies. Missing values were handled appropriately, and there were no duplicates, formatted & validated data types of every column.\n"
   ]
  }
 ],
 "metadata": {
  "kernelspec": {
   "display_name": "Python 3 (ipykernel)",
   "language": "python",
   "name": "python3"
  },
  "language_info": {
   "codemirror_mode": {
    "name": "ipython",
    "version": 3
   },
   "file_extension": ".py",
   "mimetype": "text/x-python",
   "name": "python",
   "nbconvert_exporter": "python",
   "pygments_lexer": "ipython3",
   "version": "3.11.5"
  }
 },
 "nbformat": 4,
 "nbformat_minor": 5
}
